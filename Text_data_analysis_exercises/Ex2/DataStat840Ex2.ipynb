{
 "cells": [
  {
   "cell_type": "markdown",
   "metadata": {},
   "source": [
    "# DATA.STAT.840 Statistical Methods for Text Data Analysis\n",
    "Exercises for Lecture 2: Basic text processing\n",
    "Daniel Kusnetsoff"
   ]
  },
  {
   "cell_type": "markdown",
   "metadata": {},
   "source": [
    "Exercise 2.1: Data acquisition - Building a better web crawler.\n",
    "The web crawler code shown on Lecture 2 is poor in at least two respects:\n",
    "1. It can crawl the same page multiple times, if a link on a later crawled page points to the\n",
    "already-crawled page.\n",
    "2. It inserts all links from each page in order as pages to be crawled. If some page contains\n",
    "thousands of links, the crawling will crawl those first and may never get to the links from\n",
    "the next page, especially if the total number of pages are limited.\n",
    "Suggest how to create an improved web crawler that does not have these problems. Provide in your\n",
    "answer the improved code, either as pseudocode or as real code in Python or in another\n",
    "programming language. The code must be detailed enough to show how the problem is solved using\n",
    "the data types and structures of the language you have chosen."
   ]
  },
  {
   "cell_type": "markdown",
   "metadata": {},
   "source": [
    "1. We can add a condition that checks if the page has already been crawled. This way we can make sure we only crawl the pages once. This could also be done by storing the crawled urls to a container that only accepts unique element from the beginning."
   ]
  },
  {
   "cell_type": "markdown",
   "metadata": {},
   "source": [
    "2. We can limit the amount of links returned by each of the pages to a specific value such as 3 by adding the max amount of returned links."
   ]
  },
  {
   "cell_type": "code",
   "execution_count": 1,
   "metadata": {},
   "outputs": [],
   "source": [
    "import requests\n",
    "import bs4\n",
    "import re\n",
    "import numpy as np"
   ]
  },
  {
   "cell_type": "code",
   "execution_count": 2,
   "metadata": {},
   "outputs": [],
   "source": [
    "def getpageurls(webpage_parsed):\n",
    "    # Find elements that are hyperlinks\n",
    "    pagelinkelements=webpage_parsed.find_all('a')\n",
    "    pageurls=[];\n",
    "    for pagelink in pagelinkelements:\n",
    "        pageurl_isok=1\n",
    "        try:\n",
    "            pageurl=pagelink['href']\n",
    "        except:\n",
    "            pageurl_isok=0\n",
    "        if pageurl_isok==1:\n",
    "            # Check that the url does NOT contain these strings\n",
    "            if (pageurl.find('.pdf')!=-1)|(pageurl.find('.ps')!=-1):\n",
    "                pageurl_isok=0\n",
    "            # Check that the url DOES contain these strings\n",
    "            if (pageurl.find('http')==-1)|(pageurl.find('.fi')==-1):\n",
    "                pageurl_isok=0\n",
    "        if pageurl_isok==1:\n",
    "            pageurls.append(pageurl)\n",
    "    return(pageurls)\n",
    "\n",
    "    #print(pageurls)\n",
    "\n",
    "\n"
   ]
  },
  {
   "cell_type": "code",
   "execution_count": 3,
   "metadata": {},
   "outputs": [],
   "source": [
    "def getpagetext(parsedpage):\n",
    "    # Remove HTML elements that are scripts\n",
    "    scriptelements=parsedpage.find_all('script')\n",
    "    # Concatenate the text content from all table cells\n",
    "    for scriptelement in scriptelements:\n",
    "        # Extract this script element from the page.\n",
    "        # This changes the page given to this function!\n",
    "        scriptelement.extract()\n",
    "    pagetext=parsedpage.get_text()\n",
    "    return(pagetext)"
   ]
  },
  {
   "cell_type": "code",
   "execution_count": 4,
   "metadata": {},
   "outputs": [
    {
     "name": "stdout",
     "output_type": "stream",
     "text": [
      "Getting page:\n",
      "https://www.sis.uta.fi/~tojape/\n",
      "Getting page:\n",
      "https://www.tuni.fi/en\n",
      "Getting page:\n",
      "https://www.tuni.fi/en/about-us/faculty-information-technology-and-communication-sciences\n",
      "Getting page:\n",
      "https://www.tuni.fi/en/about-us/computing-sciences\n",
      "Getting page:\n",
      "http://cs.aalto.fi/en/\n",
      "Getting page:\n",
      "http://www.cis.hut.fi/projects/mi\n",
      "Getting page:\n",
      "http://users.ics.aalto.fi/jtpelto/\n",
      "Getting page:\n",
      "http://research.ics.aalto.fi/coin/\n",
      "Getting page:\n",
      "https://www.tuni.fi/studentsguide/curriculum/degree-programmes/uta-tohjelma-1717?year=2019\n",
      "Getting page:\n",
      "https://www.tuni.fi/en/study-with-us/computing-sciences-data-science?navref=curated--list\n",
      "Getting page:\n",
      "https://www.tuni.fi/en/study-with-us/computing-sciences-statistical-data-analytics?navref=curated--list\n",
      "Getting page:\n",
      "https://www.tuni.fi/studentsguide/curriculum/course-units/otm-d42bf3fb-ecd7-43ee-919e-3a18e0b7d885?year=2020&q=null\n",
      "Getting page:\n",
      "https://www.tuni.fi/studentsguide/curriculum/course-units/otm-386280c0-c76b-4837-b4e3-61a9d53130b4?year=2020\n",
      "Getting page:\n",
      "https://www.tuni.fi/studentsguide/curriculum/course-units/uta-ykoodi-48003?year=2019\n",
      "Getting page:\n",
      "https://www.tuni.fi/studentsguide/curriculum/course-units/uta-ykoodi-48010?year=2019\n"
     ]
    }
   ],
   "source": [
    "def basicwebcrawler(seedpage_url,maxpages):\n",
    "    # Store URLs crawled and their text content\n",
    "    num_pages_crawled=0\n",
    "    crawled_urls=[]\n",
    "    crawled_texts=[]\n",
    "    # Remaining pages to crawl: start from a seed page URL\n",
    "    pagestocrawl=[seedpage_url]\n",
    "    # Process remaining pages until a desired number\n",
    "    # of pages have been found\n",
    "    while (num_pages_crawled<maxpages)&(len(pagestocrawl)>0):\n",
    "        # Retrieve the topmost remaining page and parse it\n",
    "        pagetocrawl_url=pagestocrawl[0]\n",
    "        print('Getting page:')\n",
    "        print(pagetocrawl_url)\n",
    "        pagetocrawl_html=requests.get(pagetocrawl_url)\n",
    "        pagetocrawl_parsed=bs4.BeautifulSoup(pagetocrawl_html.content,'html.parser')\n",
    "        # Get the text and URLs of the page\n",
    "        pagetocrawl_text=getpagetext(pagetocrawl_parsed)\n",
    "        pagetocrawl_urls=getpageurls(pagetocrawl_parsed)\n",
    "        # Store the URL and content of the processed page\n",
    "        \n",
    "        # Checking if the URl already has been crawled\n",
    "        if pagetocrawl_urls not in crawled_urls:\n",
    "            num_pages_crawled=num_pages_crawled+1\n",
    "            crawled_urls.append(pagetocrawl_url)\n",
    "            crawled_texts.append(pagetocrawl_text)\n",
    "            \n",
    "        # Remove the processed page from remaining pages,\n",
    "        # add new URLs\n",
    "            pagestocrawl=pagestocrawl[1:len(pagestocrawl)]\n",
    "            pagestocrawl.extend(pagetocrawl_urls)\n",
    "    return(crawled_urls,crawled_texts)\n",
    "\n",
    "mycrawled_urls_and_texts=basicwebcrawler('https://www.sis.uta.fi/~tojape/',15)\n",
    "mycrawled_urls=mycrawled_urls_and_texts[0]\n",
    "mycrawled_texts=mycrawled_urls_and_texts[1]"
   ]
  },
  {
   "cell_type": "markdown",
   "metadata": {},
   "source": [
    "# Ex 2.2"
   ]
  },
  {
   "cell_type": "code",
   "execution_count": 5,
   "metadata": {},
   "outputs": [],
   "source": [
    "\n",
    "def top_gutenberg_ebooks(seed_page_url, top_k):\n",
    "    ebook_titles=[]\n",
    "    amount_books_downloaded=0\n",
    "    texts_downloaded=[]\n",
    "    ebook_addresses=[]\n",
    "    url_to_download= \"https://www.gutenberg.org/files/\"\n",
    "    \n",
    "    seed_page_parsed = requests.get(seed_page_url)\n",
    "    h2_tag=bs4.BeautifulSoup(seed_page_parsed.content, 'html.parser').find(id='books-last30')\n",
    "    ol_tag = h2_tag.next_sibling.next_sibling\n",
    "    for a_tag in ol_tag.find_all('a'):\n",
    "        # find matching pattern for ebook name\n",
    "        name_match = re.match(r'(.*)(\\(\\d+\\))', a_tag.text)\n",
    "        ebook_name = name_match.group(1).strip()\n",
    "        \n",
    "        # find matching pattern for ebook id\n",
    "        id_match = re.match(r'/ebooks/(\\d+)', a_tag.get('href'))\n",
    "        ebook_id = id_match.group(1)\n",
    "        ebook_url = url_to_download + ebook_id + '/' + ebook_id + '-0.txt'\n",
    "        \n",
    "        # checking book is not already downloaded using url\n",
    "        if (ebook_url not in ebook_addresses) & (amount_books_downloaded < top_k):\n",
    "            print('Downloading text file from:')\n",
    "            print(ebook_url)\n",
    "            ebook_page = requests.get(ebook_url)\n",
    "            parsed_page = bs4.BeautifulSoup(ebook_page.content, 'html.parser')\n",
    "            \n",
    "            # get text from dowloaded ebook\n",
    "            ebook_text = getpagetext(parsed_page)\n",
    "            start_index = ebook_text.find('*** START OF THE PROJECT GUTENBERG EBOOK')\n",
    "            end_index = ebook_text.find('*** END OF THE PROJECT GUTENBERG EBOOK')\n",
    "            ebook_text = ebook_text[start_index:end_index]\n",
    "            \n",
    "            # remove leading and trailing whitespaces\n",
    "            ebook_text = ebook_text.strip()\n",
    "            ebook_text = ' '.join(ebook_text.split())\n",
    "            \n",
    "            # store book content\n",
    "            texts_downloaded.append(ebook_text)\n",
    "            ebook_addresses.append(ebook_url)\n",
    "            ebook_titles.append(ebook_name)\n",
    "            amount_books_downloaded += 1\n",
    "            \n",
    "    return(texts_downloaded, ebook_titles, ebook_addresses, amount_books_downloaded)"
   ]
  },
  {
   "cell_type": "code",
   "execution_count": 6,
   "metadata": {},
   "outputs": [
    {
     "name": "stdout",
     "output_type": "stream",
     "text": [
      "Downloading text file from:\n",
      "https://www.gutenberg.org/files/2641/2641-0.txt\n",
      "Downloading text file from:\n",
      "https://www.gutenberg.org/files/145/145-0.txt\n",
      "Downloading text file from:\n",
      "https://www.gutenberg.org/files/37106/37106-0.txt\n",
      "Downloading text file from:\n",
      "https://www.gutenberg.org/files/16389/16389-0.txt\n",
      "Downloading text file from:\n",
      "https://www.gutenberg.org/files/67979/67979-0.txt\n",
      "Downloading text file from:\n",
      "https://www.gutenberg.org/files/394/394-0.txt\n",
      "Downloading text file from:\n",
      "https://www.gutenberg.org/files/1342/1342-0.txt\n",
      "Downloading text file from:\n",
      "https://www.gutenberg.org/files/84/84-0.txt\n",
      "Downloading text file from:\n",
      "https://www.gutenberg.org/files/1952/1952-0.txt\n",
      "Downloading text file from:\n",
      "https://www.gutenberg.org/files/1661/1661-0.txt\n",
      "Downloading text file from:\n",
      "https://www.gutenberg.org/files/345/345-0.txt\n",
      "Downloading text file from:\n",
      "https://www.gutenberg.org/files/11/11-0.txt\n",
      "Downloading text file from:\n",
      "https://www.gutenberg.org/files/25344/25344-0.txt\n",
      "Downloading text file from:\n",
      "https://www.gutenberg.org/files/2701/2701-0.txt\n",
      "Downloading text file from:\n",
      "https://www.gutenberg.org/files/174/174-0.txt\n",
      "Downloading text file from:\n",
      "https://www.gutenberg.org/files/1080/1080-0.txt\n",
      "Downloading text file from:\n",
      "https://www.gutenberg.org/files/98/98-0.txt\n",
      "Downloading text file from:\n",
      "https://www.gutenberg.org/files/43/43-0.txt\n",
      "Downloading text file from:\n",
      "https://www.gutenberg.org/files/64317/64317-0.txt\n",
      "Downloading text file from:\n",
      "https://www.gutenberg.org/files/2542/2542-0.txt\n"
     ]
    }
   ],
   "source": [
    "texts_downloaded, ebook_titles, ebook_addresses, amount_books_downloaded =top_gutenberg_ebooks('https://www.gutenberg.org/browse/scores/top', 20)"
   ]
  },
  {
   "cell_type": "code",
   "execution_count": 7,
   "metadata": {},
   "outputs": [
    {
     "data": {
      "text/plain": [
       "(['A Room with a View by E. M.  Forster',\n",
       "  'Middlemarch by George Eliot',\n",
       "  'Little Women; Or, Meg, Jo, Beth, and Amy by Louisa May Alcott',\n",
       "  'The Enchanted April by Elizabeth Von Arnim',\n",
       "  'The Blue Castle: a novel by L. M.  Montgomery',\n",
       "  'Cranford by Elizabeth Cleghorn Gaskell',\n",
       "  'Pride and Prejudice by Jane Austen',\n",
       "  'Frankenstein; Or, The Modern Prometheus by Mary Wollstonecraft Shelley',\n",
       "  'The Yellow Wallpaper by Charlotte Perkins Gilman',\n",
       "  'The Adventures of Sherlock Holmes by Arthur Conan Doyle',\n",
       "  'Dracula by Bram Stoker',\n",
       "  \"Alice's Adventures in Wonderland by Lewis Carroll\",\n",
       "  'The Scarlet Letter by Nathaniel Hawthorne',\n",
       "  'Moby Dick; Or, The Whale by Herman Melville',\n",
       "  'The Picture of Dorian Gray by Oscar Wilde',\n",
       "  'A Modest Proposal by Jonathan Swift',\n",
       "  'A Tale of Two Cities by Charles Dickens',\n",
       "  'The Strange Case of Dr. Jekyll and Mr. Hyde by Robert Louis Stevenson',\n",
       "  'The Great Gatsby by F. Scott  Fitzgerald',\n",
       "  \"A Doll's House : a play by Henrik Ibsen\"],\n",
       " ['https://www.gutenberg.org/files/2641/2641-0.txt',\n",
       "  'https://www.gutenberg.org/files/145/145-0.txt',\n",
       "  'https://www.gutenberg.org/files/37106/37106-0.txt',\n",
       "  'https://www.gutenberg.org/files/16389/16389-0.txt',\n",
       "  'https://www.gutenberg.org/files/67979/67979-0.txt',\n",
       "  'https://www.gutenberg.org/files/394/394-0.txt',\n",
       "  'https://www.gutenberg.org/files/1342/1342-0.txt',\n",
       "  'https://www.gutenberg.org/files/84/84-0.txt',\n",
       "  'https://www.gutenberg.org/files/1952/1952-0.txt',\n",
       "  'https://www.gutenberg.org/files/1661/1661-0.txt',\n",
       "  'https://www.gutenberg.org/files/345/345-0.txt',\n",
       "  'https://www.gutenberg.org/files/11/11-0.txt',\n",
       "  'https://www.gutenberg.org/files/25344/25344-0.txt',\n",
       "  'https://www.gutenberg.org/files/2701/2701-0.txt',\n",
       "  'https://www.gutenberg.org/files/174/174-0.txt',\n",
       "  'https://www.gutenberg.org/files/1080/1080-0.txt',\n",
       "  'https://www.gutenberg.org/files/98/98-0.txt',\n",
       "  'https://www.gutenberg.org/files/43/43-0.txt',\n",
       "  'https://www.gutenberg.org/files/64317/64317-0.txt',\n",
       "  'https://www.gutenberg.org/files/2542/2542-0.txt'],\n",
       " 20)"
      ]
     },
     "execution_count": 7,
     "metadata": {},
     "output_type": "execute_result"
    }
   ],
   "source": [
    "ebook_titles, ebook_addresses, amount_books_downloaded"
   ]
  },
  {
   "cell_type": "code",
   "execution_count": null,
   "metadata": {},
   "outputs": [],
   "source": []
  },
  {
   "cell_type": "markdown",
   "metadata": {},
   "source": [
    "Ex 2.2 C"
   ]
  },
  {
   "cell_type": "code",
   "execution_count": 8,
   "metadata": {},
   "outputs": [],
   "source": [
    "#%% Tokenize loaded texts and change them to NLTK format\n",
    "import nltk\n",
    "\n",
    "mycrawled_nltktexts=[]\n",
    "for k in range(len(texts_downloaded)):\n",
    "    temp_tokenizedtext=nltk.word_tokenize(texts_downloaded[k])\n",
    "    temp_nltktext=nltk.Text(temp_tokenizedtext)\n",
    "    mycrawled_nltktexts.append(temp_nltktext)"
   ]
  },
  {
   "cell_type": "code",
   "execution_count": 9,
   "metadata": {},
   "outputs": [
    {
     "data": {
      "text/plain": [
       "<Text: *** START OF THE PROJECT GUTENBERG EBOOK A...>"
      ]
     },
     "execution_count": 9,
     "metadata": {},
     "output_type": "execute_result"
    }
   ],
   "source": [
    "mycrawled_nltktexts[19]"
   ]
  },
  {
   "cell_type": "code",
   "execution_count": 10,
   "metadata": {},
   "outputs": [],
   "source": [
    "mycrawled_lowercasetexts = []\n",
    "for k in range(len(mycrawled_nltktexts)):\n",
    "    temp_lowercasetext = []\n",
    "    for l in range(len(mycrawled_nltktexts[k])):\n",
    "        lowercaseword = mycrawled_nltktexts[k][l].lower()\n",
    "        temp_lowercasetext.append(lowercaseword)\n",
    "    temp_lowercasetest = nltk.Text(temp_lowercasetext)\n",
    "    mycrawled_lowercasetexts.append(temp_lowercasetext)    \n",
    "\n",
    "\n"
   ]
  },
  {
   "cell_type": "code",
   "execution_count": 11,
   "metadata": {},
   "outputs": [
    {
     "data": {
      "text/plain": [
       "'’'"
      ]
     },
     "execution_count": 11,
     "metadata": {},
     "output_type": "execute_result"
    }
   ],
   "source": [
    "mycrawled_lowercasetexts[19][123]"
   ]
  },
  {
   "cell_type": "code",
   "execution_count": 12,
   "metadata": {},
   "outputs": [],
   "source": [
    "#POS\n",
    "def tagtowordnet(postag):\n",
    "    wordnettag=-1\n",
    "    if postag[0]=='N':\n",
    "        wordnettag='n'\n",
    "    elif postag[0]=='V':\n",
    "        wordnettag='v'\n",
    "    elif postag[0]=='J':\n",
    "        wordnettag='a'\n",
    "    elif postag[0]=='R':\n",
    "        wordnettag='r'\n",
    "    return(wordnettag)"
   ]
  },
  {
   "cell_type": "code",
   "execution_count": 13,
   "metadata": {},
   "outputs": [
    {
     "name": "stdout",
     "output_type": "stream",
     "text": [
      "[nltk_data] Downloading package wordnet to\n",
      "[nltk_data]     C:\\Users\\danie\\AppData\\Roaming\\nltk_data...\n",
      "[nltk_data]   Package wordnet is already up-to-date!\n",
      "[nltk_data] Downloading package averaged_perceptron_tagger to\n",
      "[nltk_data]     C:\\Users\\danie\\AppData\\Roaming\\nltk_data...\n",
      "[nltk_data]   Package averaged_perceptron_tagger is already up-to-\n",
      "[nltk_data]       date!\n"
     ]
    }
   ],
   "source": [
    "# Download wordnet resource if you do not have it already\n",
    "nltk.download('wordnet')\n",
    "# Download tagger resource if you do not have it already\n",
    "nltk.download('averaged_perceptron_tagger')\n",
    "\n",
    "lemmatizer=nltk.stem.WordNetLemmatizer()"
   ]
  },
  {
   "cell_type": "code",
   "execution_count": 14,
   "metadata": {},
   "outputs": [],
   "source": [
    "\n",
    "def lemmatizetext(nltktexttolemmatize):\n",
    "    # Tag the text with POS tags\n",
    "    taggedtext=nltk.pos_tag(nltktexttolemmatize)\n",
    "    # Lemmatize each word text\n",
    "    lemmatizedtext=[]\n",
    "    for l in range(len(taggedtext)):\n",
    "        # Lemmatize a word using the WordNet converted POS tag\n",
    "        wordtolemmatize=taggedtext[l][0]\n",
    "        wordnettag=tagtowordnet(taggedtext[l][1])\n",
    "        if wordnettag!=-1:\n",
    "            lemmatizedword=lemmatizer.lemmatize(wordtolemmatize,wordnettag)\n",
    "        else:\n",
    "            lemmatizedword=wordtolemmatize\n",
    "        # Store the lemmatized word\n",
    "        lemmatizedtext.append(lemmatizedword)\n",
    "    return(lemmatizedtext)\n",
    "\n",
    "mycrawled_lemmatizedtexts=[]\n",
    "for k in range(len(mycrawled_lowercasetexts)):\n",
    "    lemmatizedtext=lemmatizetext(mycrawled_lowercasetexts[k])\n",
    "    lemmatizedtext=nltk.Text(lemmatizedtext)\n",
    "    mycrawled_lemmatizedtexts.append(lemmatizedtext)"
   ]
  },
  {
   "cell_type": "code",
   "execution_count": 15,
   "metadata": {},
   "outputs": [
    {
     "data": {
      "text/plain": [
       "20"
      ]
     },
     "execution_count": 15,
     "metadata": {},
     "output_type": "execute_result"
    }
   ],
   "source": [
    "len(mycrawled_lemmatizedtexts)"
   ]
  },
  {
   "cell_type": "markdown",
   "metadata": {},
   "source": [
    "Ex 2.2 D"
   ]
  },
  {
   "cell_type": "code",
   "execution_count": 16,
   "metadata": {},
   "outputs": [
    {
     "data": {
      "text/plain": [
       "array(['!', '(', ')', ..., '’', '“', '”'], dtype='<U22')"
      ]
     },
     "execution_count": 16,
     "metadata": {},
     "output_type": "execute_result"
    }
   ],
   "source": [
    "import numpy as np\n",
    "\n",
    "myvocabularies=[]\n",
    "myindices_in_vocabularies=[]\n",
    "# Find the vocabulary of each document\n",
    "for k in range(len(mycrawled_lemmatizedtexts)):\n",
    "    # Get unique words and where they occur\n",
    "    temptext=mycrawled_lemmatizedtexts[k]\n",
    "    uniqueresults=np.unique(temptext,return_inverse=True)\n",
    "    uniquewords=uniqueresults[0]\n",
    "    wordindices=uniqueresults[1]\n",
    "    # Store the vocabulary and indices of document words in it\n",
    "    myvocabularies.append(uniquewords)\n",
    "    myindices_in_vocabularies.append(wordindices)\n",
    "myvocabularies[0]\n",
    "    "
   ]
  },
  {
   "cell_type": "code",
   "execution_count": 17,
   "metadata": {},
   "outputs": [
    {
     "data": {
      "text/plain": [
       "20"
      ]
     },
     "execution_count": 17,
     "metadata": {},
     "output_type": "execute_result"
    }
   ],
   "source": [
    "len(myvocabularies)\n"
   ]
  },
  {
   "cell_type": "code",
   "execution_count": 18,
   "metadata": {},
   "outputs": [],
   "source": [
    "tempvocabulary=[]\n",
    "for k in range(len(mycrawled_lemmatizedtexts)):\n",
    "    tempvocabulary.extend(myvocabularies[k])\n",
    "    \n",
    "# Find the unique elements among all vocabularies\n",
    "uniqueresults=np.unique(tempvocabulary,return_inverse=True)\n",
    "unifiedvocabulary=uniqueresults[0]\n",
    "wordindices=uniqueresults[1]\n",
    "\n",
    "\n"
   ]
  },
  {
   "cell_type": "code",
   "execution_count": 19,
   "metadata": {},
   "outputs": [
    {
     "data": {
      "text/plain": [
       "43984"
      ]
     },
     "execution_count": 19,
     "metadata": {},
     "output_type": "execute_result"
    }
   ],
   "source": [
    "len(unifiedvocabulary)"
   ]
  },
  {
   "cell_type": "code",
   "execution_count": 20,
   "metadata": {},
   "outputs": [],
   "source": [
    "# Translate previous indices to the unified vocabulary.\n",
    "# Must keep track where each vocabulary started in\n",
    "# the concatenated one.\n",
    "vocabularystart=0\n",
    "myindices_in_unifiedvocabulary=[]\n",
    "for k in range(len(mycrawled_lemmatizedtexts)):\n",
    "    # In order to shift word indices, we must temporarily\n",
    "    # change their data type to a Numpy array\n",
    "    tempindices=np.array(myindices_in_vocabularies[k])\n",
    "    tempindices=tempindices+vocabularystart\n",
    "    tempindices=wordindices[tempindices]\n",
    "    myindices_in_unifiedvocabulary.append(tempindices)\n",
    "    vocabularystart=vocabularystart+len(myvocabularies[k])"
   ]
  },
  {
   "cell_type": "code",
   "execution_count": 21,
   "metadata": {},
   "outputs": [
    {
     "data": {
      "text/plain": [
       "43984"
      ]
     },
     "execution_count": 21,
     "metadata": {},
     "output_type": "execute_result"
    }
   ],
   "source": [
    "len(unifiedvocabulary)"
   ]
  },
  {
   "cell_type": "code",
   "execution_count": 22,
   "metadata": {},
   "outputs": [
    {
     "data": {
      "text/plain": [
       "array([15759, 18184, 28792, 16071,   180, 42228,  6286, 37691, 34153,\n",
       "       26640, 30077, 14203, 16420, 18184, 37691, 19706, 26640,  1492,\n",
       "       14652, 30516, 15759, 37691,  4875,   180, 43809, 15759, 26849,\n",
       "       26640, 27177, 12660, 29033,   180, 43729,  1492, 27689, 26640,\n",
       "       38387, 43980, 32373, 25879,   188, 33807,  4344, 40731, 35339,\n",
       "       26640,  3431,  4344, 31278,  7814], dtype=int64)"
      ]
     },
     "execution_count": 22,
     "metadata": {},
     "output_type": "execute_result"
    }
   ],
   "source": [
    "myindices_in_unifiedvocabulary[1][1000:1050]"
   ]
  },
  {
   "cell_type": "code",
   "execution_count": 23,
   "metadata": {},
   "outputs": [
    {
     "data": {
      "text/plain": [
       "array(['from', 'her', 'plain', 'garment', ',', 'which', 'by', 'the',\n",
       "       'side', 'of', 'provincial', 'fashion', 'give', 'her', 'the',\n",
       "       'impressiveness', 'of', 'a', 'fine', 'quotation', 'from', 'the',\n",
       "       'bible', ',', '—or', 'from', 'one', 'of', 'our', 'elder', 'poet',\n",
       "       ',', '—in', 'a', 'paragraph', 'of', 'to-day', '’', 's',\n",
       "       'newspaper', '.', 'she', 'be', 'usually', 'speak', 'of', 'as',\n",
       "       'be', 'remarkably', 'clever'], dtype='<U54')"
      ]
     },
     "execution_count": 23,
     "metadata": {},
     "output_type": "execute_result"
    }
   ],
   "source": [
    "unifiedvocabulary[myindices_in_unifiedvocabulary[1][1000:1050]]"
   ]
  },
  {
   "cell_type": "code",
   "execution_count": 24,
   "metadata": {},
   "outputs": [],
   "source": [
    "unifiedvocabulary_totaloccurrencecounts=np.zeros((len(unifiedvocabulary),1))\n",
    "unifiedvocabulary_documentcounts=np.zeros((len(unifiedvocabulary),1))\n",
    "unifiedvocabulary_meancounts=np.zeros((len(unifiedvocabulary),1))\n",
    "unifiedvocabulary_countvariances=np.zeros((len(unifiedvocabulary),1))"
   ]
  },
  {
   "cell_type": "code",
   "execution_count": 25,
   "metadata": {},
   "outputs": [
    {
     "name": "stdout",
     "output_type": "stream",
     "text": [
      "0\n",
      "1\n",
      "2\n",
      "3\n",
      "4\n",
      "5\n",
      "6\n",
      "7\n",
      "8\n",
      "9\n",
      "10\n",
      "11\n",
      "12\n",
      "13\n",
      "14\n",
      "15\n",
      "16\n",
      "17\n",
      "18\n",
      "19\n"
     ]
    }
   ],
   "source": [
    "# First pass: count occurrences\n",
    "for k in range(len(mycrawled_lemmatizedtexts)):\n",
    "    print(k)\n",
    "    occurrencecounts=np.zeros((len(unifiedvocabulary),1))\n",
    "    for l in range(len(myindices_in_unifiedvocabulary[k])):\n",
    "        occurrencecounts[myindices_in_unifiedvocabulary[k][l]]= \\\n",
    "            occurrencecounts[myindices_in_unifiedvocabulary[k][l]]+1\n",
    "    unifiedvocabulary_totaloccurrencecounts= \\\n",
    "        unifiedvocabulary_totaloccurrencecounts+occurrencecounts\n",
    "    unifiedvocabulary_documentcounts= \\\n",
    "        unifiedvocabulary_documentcounts+(occurrencecounts>0)"
   ]
  },
  {
   "cell_type": "code",
   "execution_count": 26,
   "metadata": {},
   "outputs": [],
   "source": [
    "# Mean occurrence counts over documents\n",
    "unifiedvocabulary_meancounts= \\\n",
    "    unifiedvocabulary_totaloccurrencecounts/len(mycrawled_lemmatizedtexts)"
   ]
  },
  {
   "cell_type": "code",
   "execution_count": 27,
   "metadata": {},
   "outputs": [
    {
     "name": "stdout",
     "output_type": "stream",
     "text": [
      "0\n",
      "1\n",
      "2\n",
      "3\n",
      "4\n",
      "5\n",
      "6\n",
      "7\n",
      "8\n",
      "9\n",
      "10\n",
      "11\n",
      "12\n",
      "13\n",
      "14\n",
      "15\n",
      "16\n",
      "17\n",
      "18\n",
      "19\n"
     ]
    }
   ],
   "source": [
    "# Second pass to count variances\n",
    "for k in range(len(mycrawled_lemmatizedtexts)):\n",
    "    print(k)\n",
    "    occurrencecounts=np.zeros((len(unifiedvocabulary),1))\n",
    "    for l in range(len(myindices_in_unifiedvocabulary[k])):\n",
    "        occurrencecounts[myindices_in_unifiedvocabulary[k][l]]= \\\n",
    "            occurrencecounts[myindices_in_unifiedvocabulary[k][l]]+1\n",
    "    unifiedvocabulary_countvariances=unifiedvocabulary_countvariances+ \\\n",
    "        (occurrencecounts-unifiedvocabulary_meancounts)**2\n",
    "unifiedvocabulary_countvariances= \\\n",
    "    unifiedvocabulary_countvariances/(len(mycrawled_lemmatizedtexts)-1)"
   ]
  },
  {
   "cell_type": "code",
   "execution_count": 28,
   "metadata": {},
   "outputs": [
    {
     "name": "stdout",
     "output_type": "stream",
     "text": [
      "['the' '.' 'be' 'and' 'of' 'to' 'a' 'i' 'have' 'in' 'that' '“' '”' 'it'\n",
      " 'he' 'his' '’' 'you' 'her' ';' 'with' 'she' 'as' 'not' 'for' 'but' 'at'\n",
      " 'say' 'on' 'my' 'do' 's' 'him' '?' '!' 'all' 'me' 'so' 'this' 'which'\n",
      " 'by' 'from' 'there' 'would' 'one' 'they' 'go' 'what' 'if' 'no' 'when'\n",
      " 'we' 'come' 'an' 'know' 'mr.' 'or' 'could' '--' 'will' 'who' 'out' 'make'\n",
      " 'them' 'see' 'up' 'look' 'think' 'more' 'very' 'now' 'some' 'into' 'then'\n",
      " 't' 'your' 'like' 'their' 'take' 'man' 'can' 'about' 'little' ':' 'time'\n",
      " 'than' 'any' '``' \"''\" 'only' 'good' 'must' 'should' 'get' 'before'\n",
      " 'well' 'tell' 'never' 'seem']\n",
      "[84626. 71673. 66125. 53248. 46971. 46751. 36244. 31774. 29299. 28203.\n",
      " 24565. 23738. 22737. 22481. 21617. 17249. 16722. 16426. 16137. 15505.\n",
      " 14692. 14480. 14220. 13290. 13019. 11944. 11290. 10403.  9866.  9304.\n",
      "  9031.  8933.  8811.  8801.  8360.  7939.  7881.  7352.  7244.  7225.\n",
      "  6905.  6560.  6390.  6053.  5903.  5815.  5775.  5746.  5650.  5591.\n",
      "  5441.  5315.  4976.  4924.  4726.  4709.  4509.  4390.  4388.  4338.\n",
      "  4280.  4202.  4167.  4042.  4040.  4002.  3978.  3958.  3836.  3776.\n",
      "  3756.  3673.  3643.  3623.  3622.  3619.  3598.  3490.  3317.  3240.\n",
      "  3222.  3210.  3205.  3075.  3051.  2987.  2980.  2892.  2871.  2870.\n",
      "  2826.  2786.  2670.  2623.  2610.  2574.  2558.  2536.  2493.]\n"
     ]
    }
   ],
   "source": [
    "#%% Inspect frequent words\n",
    "# Sort words by largest total (or mean) occurrence count\n",
    "highest_totaloccurrences_indices=np.argsort(\\\n",
    "    -1*unifiedvocabulary_totaloccurrencecounts,axis=0)\n",
    "print(np.squeeze(unifiedvocabulary[\\\n",
    "    highest_totaloccurrences_indices[1:100]]))\n",
    "print(np.squeeze(\\\n",
    "    unifiedvocabulary_totaloccurrencecounts[\\\n",
    "    highest_totaloccurrences_indices[1:100]]))"
   ]
  },
  {
   "cell_type": "code",
   "execution_count": 29,
   "metadata": {},
   "outputs": [
    {
     "name": "stdout",
     "output_type": "stream",
     "text": [
      "['deal' 'dear' 'mean' 'me' 'may' 'matter' 'many' 'manner' 'man' 'make'\n",
      " 'love' 'day' 'very' 'long' 'little' 'like' 'life' 'let' 'less' 'leave'\n",
      " 'least' 'last' 'know' 'kind' 'look' 'walk' 'use' 'might' 'a' 'off' 'of'\n",
      " 'now' 'nothing' 'not' 'nor' 'could' 'no' 'course' 'new' 'us' 'never'\n",
      " 'myself' 'my' 'must' 'much' 'move' 'most' 'more' 'month' 'moment' 'up'\n",
      " 'upon' 'near' 'just' 'do' 'want' 'home' 'will' 'his' 'him' 'high' 'her'\n",
      " 'even' 'help' 'ever' 'every' 'with' 'hop' 'heart' 'head' 'he' 'have'\n",
      " 'except' 'woman' 'expect' 'work' 'world' 'half' 'gutenberg' 'would'\n",
      " 'without' 'hope' 'house' 'how' 'its' 'it' 'into' 'interest' 'way' 'dress'\n",
      " 'we' 'instead' 'well' 'easy' 'eat' 'ebook' 'in' 'what' 'when']\n",
      "[19. 19. 19. 19. 19. 19. 19. 19. 19. 19. 19. 19. 19. 19. 19. 19. 19. 19.\n",
      " 19. 19. 19. 19. 19. 19. 19. 19. 19. 19. 19. 19. 19. 19. 19. 19. 19. 19.\n",
      " 19. 19. 19. 19. 19. 19. 19. 19. 19. 19. 19. 19. 19. 19. 19. 19. 19. 19.\n",
      " 19. 19. 19. 19. 19. 19. 19. 19. 19. 19. 19. 19. 19. 19. 19. 19. 19. 19.\n",
      " 19. 19. 19. 19. 19. 19. 19. 19. 19. 19. 19. 19. 19. 19. 19. 19. 19. 19.\n",
      " 19. 19. 19. 19. 19. 19. 19. 19. 19.]\n"
     ]
    }
   ],
   "source": [
    "# Sort words by largest total document count\n",
    "highest_documentoccurrences_indices=np.argsort(\\\n",
    "    -1*unifiedvocabulary_documentcounts,axis=0)\n",
    "print(np.squeeze(unifiedvocabulary[\\\n",
    "    highest_documentoccurrences_indices[1:100]]))\n",
    "print(np.squeeze(\\\n",
    "    unifiedvocabulary_documentcounts[\\\n",
    "    highest_documentoccurrences_indices[1:100]]))"
   ]
  },
  {
   "cell_type": "code",
   "execution_count": 30,
   "metadata": {},
   "outputs": [
    {
     "name": "stdout",
     "output_type": "stream",
     "text": [
      "['the' 'be' '.' 'to' 'and' 'of' 'a' 'have' 'i' 'in' '“' '”' 'that' 'he'\n",
      " ';' 'his' '’' 'her' 'it' 'you' 'she' 'with' 'not' 'as' 'for' 'say' 's'\n",
      " 'but' 'at' 'him' 'on' 'my' '--' 'which' 'mr.' '``' \"''\" '!' 'do' 'all'\n",
      " 'me' 'this' 'by' 'we' '?' 'would' 'from' 'so' 'whale' 'there' 'will' 'if'\n",
      " 'go' 'an' 'no' 'what' 'mrs.' 'when' 'one' ':' 'make' 'they' 'valancy'\n",
      " 'know' 'come' 'who' 'lydgate' 'more' 'miss' 'could' 'dorothea' 'or'\n",
      " 'think' 't' 'some' 'now' \"'s\" 'see' 'like' 'out' 'than' 'look' 'about'\n",
      " 'your' 'their' 'any' 'them' 'up' 'man' 'then' 'very' 'take' 'should'\n",
      " 'good' 'into' 'can' '_' 'nora' 'upon']\n",
      "[15233457.27368421  9392633.67105263  7757209.1868421   5277607.62894737\n",
      "  5084184.04210526  5054371.94473684  2900684.8         2094703.83947368\n",
      "  1878074.85263158  1834256.97631579  1647867.14736842  1565757.18684211\n",
      "  1440953.88157895  1328645.92368421   985635.35526316   941668.26052632\n",
      "   897624.2          819733.08157895   770040.15526316   628444.53684211\n",
      "   594207.89473684   518734.35789474   502251.31578947   468627.89473684\n",
      "   398052.99736842   387395.29210526   353460.76578947   341884.16842105\n",
      "   239428.89473684   229875.94473684   227987.8          227099.01052632\n",
      "   221251.51578947   210232.72368421   201130.99736842   198559.30526316\n",
      "   195252.68157895   171465.47368421   159592.99736842   155353.20789474\n",
      "   136845.20789474   131907.85263158   126628.93421053   121762.19736842\n",
      "   113661.62894737   110174.87105263   107416.73684211   100052.04210526\n",
      "    97015.16842105    92079.73684211    83859.77894737    81762.15789474\n",
      "    70651.56578947    67463.22105263    66661.62894737    66018.74736842\n",
      "    65584.97631579    64733.31315789    63150.76578947    60766.51315789\n",
      "    58422.34473684    52567.03947368    52531.25          52133.69473684\n",
      "    51086.58947368    50301.68421053    49203.2           47323.22105263\n",
      "    45273.73421053    44088.68421053    43898.45          43550.89210526\n",
      "    40402.2           39486.51578947    38211.39736842    37995.43157895\n",
      "    37050.2           37046.31578947    36400.09473684    33946.51578947\n",
      "    33768.55526316    33105.56842105    31542.89473684    31354.78684211\n",
      "    31214.78947368    31041.47368421    30228.72631579    29848.41052632\n",
      "    29062.84210526    28693.50263158    28453.74736842    27611.50263158\n",
      "    27371.10526316    27282.64210526    27146.66052632    25785.14736842\n",
      "    25591.37894737    24012.45          23947.52631579]\n"
     ]
    }
   ],
   "source": [
    "# Sort by largest variance of count over documents\n",
    "highest_countvariances_indices=np.argsort(\\\n",
    "    -1*unifiedvocabulary_countvariances,axis=0)\n",
    "print(np.squeeze(unifiedvocabulary[\\\n",
    "    highest_countvariances_indices[1:100]]))\n",
    "print(np.squeeze(\\\n",
    "    unifiedvocabulary_countvariances[\\\n",
    "    highest_countvariances_indices[1:100]]))"
   ]
  },
  {
   "cell_type": "markdown",
   "metadata": {},
   "source": [
    "# Ex 2.3 Zipf's law"
   ]
  },
  {
   "cell_type": "code",
   "execution_count": 31,
   "metadata": {},
   "outputs": [],
   "source": [
    "import matplotlib.pyplot as plt"
   ]
  },
  {
   "cell_type": "code",
   "execution_count": 32,
   "metadata": {},
   "outputs": [
    {
     "data": {
      "image/png": "[encoded data removed]",
      "text/plain": [
       "<Figure size 432x288 with 1 Axes>"
      ]
     },
     "metadata": {},
     "output_type": "display_data"
    }
   ],
   "source": [
    "myfigure, myaxes = plt.subplots();\n",
    "# Plot the sorted occurrence counts of the words against their ranks\n",
    "horizontalpositions=range(len(unifiedvocabulary))\n",
    "verticalpositions=np.squeeze(unifiedvocabulary_totaloccurrencecounts[\\\n",
    "    highest_totaloccurrences_indices])\n",
    "myaxes.plot(horizontalpositions,verticalpositions);"
   ]
  },
  {
   "cell_type": "code",
   "execution_count": 33,
   "metadata": {},
   "outputs": [
    {
     "data": {
      "image/png": "[encoded data removed]",
      "text/plain": [
       "<Figure size 720x576 with 1 Axes>"
      ]
     },
     "metadata": {},
     "output_type": "display_data"
    }
   ],
   "source": [
    "### \n",
    "horizontal_points = np.arange(1, len(unifiedvocabulary)+1)\n",
    "word_frequencies = np.squeeze(unifiedvocabulary_totaloccurrencecounts[highest_totaloccurrences_indices])\n",
    "vertical_points = word_frequencies / sum(word_frequencies)\n",
    "\n",
    "v1 = 1\n",
    "v2 = 1.2\n",
    "v3 = 1.4\n",
    "v4 = 1.5\n",
    "zipf_freq1 = np.power(horizontal_points.astype(float), -1 * v1)\n",
    "zipf_points1 = zipf_freq1 / sum(zipf_freq1)\n",
    "\n",
    "zipf_freq2 = np.power(horizontal_points.astype(float), -1 * v2)\n",
    "zipf_points2 = zipf_freq2 / sum(zipf_freq2)\n",
    "\n",
    "zipf_freq3 = np.power(horizontal_points.astype(float), -1 * v3)\n",
    "zipf_points3 = zipf_freq3 / sum(zipf_freq3)\n",
    "\n",
    "zipf_freq4 = np.power(horizontal_points.astype(float), -1 * v4)\n",
    "zipf_points4 = zipf_freq4 / sum(zipf_freq4)\n",
    "\n",
    "plt.figure(figsize=(10, 8))\n",
    "plt.title('Zipf\\'s law')\n",
    "plt.plot(horizontal_points[1:500], vertical_points[1:500])\n",
    "\n",
    "plt.plot(horizontal_points[1:500], zipf_points1[1:500])\n",
    "plt.plot(horizontal_points[1:500], zipf_points2[1:500])\n",
    "plt.plot(horizontal_points[1:500], zipf_points3[1:500])\n",
    "plt.plot(horizontal_points[1:500], zipf_points4[1:500])\n",
    "#plt.plot(horizontalpositions[1:43984],verticalpositions[1:43984]);\n",
    "\n",
    "plt.xlabel('rank(w)')\n",
    "plt.ylabel('p(w)')\n",
    "plt.legend(['data', 'zipf(a=1)', 'zipf(a=1.2)',\n",
    "            'zipf(a=1.4)', 'zipf(a=1.5)'], loc='best')\n",
    "plt.show()"
   ]
  },
  {
   "cell_type": "code",
   "execution_count": null,
   "metadata": {},
   "outputs": [],
   "source": []
  },
  {
   "cell_type": "markdown",
   "metadata": {},
   "source": [
    "The best choice for Zipf's law is according to the grapf around 1.4-1.5 as it follows the expected pattern as wel as possible."
   ]
  },
  {
   "cell_type": "code",
   "execution_count": null,
   "metadata": {},
   "outputs": [],
   "source": []
  },
  {
   "cell_type": "code",
   "execution_count": null,
   "metadata": {},
   "outputs": [],
   "source": []
  }
 ],
 "metadata": {
  "kernelspec": {
   "display_name": "Python 3",
   "language": "python",
   "name": "python3"
  },
  "language_info": {
   "codemirror_mode": {
    "name": "ipython",
    "version": 3
   },
   "file_extension": ".py",
   "mimetype": "text/x-python",
   "name": "python",
   "nbconvert_exporter": "python",
   "pygments_lexer": "ipython3",
   "version": "3.6.5"
  }
 },
 "nbformat": 4,
 "nbformat_minor": 2
}

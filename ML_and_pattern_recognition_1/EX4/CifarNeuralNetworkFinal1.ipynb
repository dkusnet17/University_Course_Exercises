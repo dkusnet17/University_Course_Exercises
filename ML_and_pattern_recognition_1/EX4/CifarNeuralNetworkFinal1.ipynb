{
  "nbformat": 4,
  "nbformat_minor": 0,
  "metadata": {
    "colab": {
      "name": "CifarNeuralNetwork.ipynb",
      "provenance": [],
      "collapsed_sections": []
    },
    "kernelspec": {
      "name": "python3",
      "display_name": "Python 3"
    },
    "language_info": {
      "name": "python"
    },
    "accelerator": "GPU"
  },
  "cells": [
    {
      "cell_type": "code",
      "metadata": {
        "id": "DHnd0Qj66f09"
      },
      "source": [
        "import sys\n",
        "from matplotlib import pyplot\n",
        "from keras.datasets import cifar10\n",
        "import tensorflow as tf\n",
        "from keras.utils import np_utils\n",
        "\n",
        "from keras.models import Sequential\n",
        "from keras.layers import Conv2D\n",
        "from keras.layers import MaxPooling2D\n",
        "from keras.layers import Dense\n",
        "from keras.layers import Flatten\n",
        "\n",
        "from tensorflow.keras.optimizers import SGD\n",
        "from keras.preprocessing.image import ImageDataGenerator\n",
        "\n",
        "#train: X=(50000, 32, 32, 3), y=(50000, 1)\n",
        "#test: X=(10000, 32, 32, 3), y=(10000, 1)"
      ],
      "execution_count": 55,
      "outputs": []
    },
    {
      "cell_type": "code",
      "metadata": {
        "id": "mWVDM-Jo-wDI"
      },
      "source": [
        "def get_dataset():\n",
        "    (trainX, trainY), (testX, testY) = cifar10.load_data()\n",
        "    trainY = np_utils.to_categorical(trainY)    #One-hot-encode by np_utils.to_categorical to binary class matrix\n",
        "    testY = np_utils.to_categorical(testY)      #One-hot-encode by np_utils.to_categorical to binary class matrix\n",
        "    return trainX, trainY, testX, testY"
      ],
      "execution_count": 56,
      "outputs": []
    },
    {
      "cell_type": "code",
      "metadata": {
        "id": "ENURFHkE6hjU"
      },
      "source": [
        "\n",
        "def normalization(train, test):\n",
        "    normalization_train = train.astype('float32')       \n",
        "    normalization_test = test.astype('float32')\n",
        "    normalization_train = normalization_train / 255.0   #0-1\n",
        "    normalization_test = normalization_test / 255.0     #0-1\n",
        "    return normalization_train, normalization_test"
      ],
      "execution_count": 57,
      "outputs": []
    },
    {
      "cell_type": "code",
      "metadata": {
        "id": "HSksWH976hpE"
      },
      "source": [
        "\n",
        "def model_definition():\n",
        "    model = Sequential()\n",
        "    model.add(Conv2D(32, (3, 3), activation='relu', kernel_initializer='he_uniform', padding='same', input_shape=(32, 32, 3)))\n",
        "    model.add(Conv2D(32, (3, 3), activation='relu', kernel_initializer='he_uniform', padding='same'))\n",
        "    model.add(MaxPooling2D((2, 2)))\n",
        "    model.add(Conv2D(64, (3, 3), activation='relu', kernel_initializer='he_uniform', padding='same'))\n",
        "    model.add(Conv2D(64, (3, 3), activation='relu', kernel_initializer='he_uniform', padding='same'))\n",
        "    model.add(MaxPooling2D((2, 2)))\n",
        "    model.add(Conv2D(128, (3, 3), activation='relu', kernel_initializer='he_uniform', padding='same'))\n",
        "    model.add(Conv2D(128, (3, 3), activation='relu', kernel_initializer='he_uniform', padding='same'))\n",
        "    model.add(MaxPooling2D((2, 2)))\n",
        "    model.add(Flatten())\n",
        "    model.add(Dense(128, activation='relu', kernel_initializer='he_uniform'))\n",
        "    model.add(Dense(10, activation='sigmoid'))\n",
        "    \n",
        "    optimize = SGD(learning_rate=0.001, momentum=0.9) #learning rate default: 0.1, tested with 0.01 and 0.1\n",
        "    model.compile(optimizer=optimize, loss='categorical_crossentropy', metrics=['accuracy'])\n",
        "    return model"
      ],
      "execution_count": 58,
      "outputs": []
    },
    {
      "cell_type": "code",
      "metadata": {
        "id": "oblpmKsD6hwP"
      },
      "source": [
        "def plot_acc_and_cel(history):\n",
        "\n",
        "    pyplot.subplot(2, 1, 1)\n",
        "    pyplot.title('Cross Entropy Loss ')\n",
        "    pyplot.plot(history.history['loss'], color='red', label='train')\n",
        "    pyplot.plot(history.history['val_loss'], color='blue', label='test') ## (history.history) access training history\n",
        "\n",
        "    pyplot.subplot(2, 1, 2)\n",
        "    pyplot.title('Accuracy of class predictions')\n",
        "    pyplot.plot(history.history['accuracy'], color='red', label='train') # (history.history)access training history\n",
        "    pyplot.plot(history.history['val_accuracy'], color='blue', label='test')"
      ],
      "execution_count": 59,
      "outputs": []
    },
    {
      "cell_type": "code",
      "metadata": {
        "colab": {
          "base_uri": "https://localhost:8080/",
          "height": 1000
        },
        "id": "NwOOpdyV6iHU",
        "outputId": "81d3a377-f5f8-4782-bf71-cba0503b3112"
      },
      "source": [
        "def run_model():\n",
        "    trainX, trainY, testX, testY = get_dataset()\n",
        "    trainX, testX = normalization(trainX, testX)\n",
        "    model = model_definition()\n",
        "\n",
        "    datagenerator = ImageDataGenerator(width_shift_range=0.1, height_shift_range=0.1, horizontal_flip=True) #data augmentation (data generaation)\n",
        "    iterator_train = datagenerator.flow(trainX, trainY, batch_size=64) #tested with 32\n",
        "\n",
        "    fit = int(trainX.shape[0] / 64)\n",
        "    history = model.fit(iterator_train, steps_per_epoch=fit, epochs=100, validation_data=(testX, testY), verbose=2) # only very minor accuracy changes after 75-80 epochs -> around 83%\n",
        "\n",
        "    _, accuracy = model.evaluate(testX, testY, verbose=0)  #ign\n",
        "    print('Accuracy in percentage %.3f' % (accuracy * 100.0))\n",
        "    \n",
        "    plot_acc_and_cel(history)\n",
        "\n",
        "run_model()\n",
        "# results from previous task 1-NN acc = 26%, Bayes acc = 42 %\n",
        "# This time accuracy settles in around 83-84 % range after 100 epochs"
      ],
      "execution_count": 60,
      "outputs": [
        {
          "output_type": "stream",
          "name": "stdout",
          "text": [
            "Epoch 1/100\n",
            "781/781 - 33s - loss: 1.7596 - accuracy: 0.3601 - val_loss: 1.5066 - val_accuracy: 0.4498\n",
            "Epoch 2/100\n",
            "781/781 - 32s - loss: 1.4807 - accuracy: 0.4643 - val_loss: 1.3612 - val_accuracy: 0.5004\n",
            "Epoch 3/100\n",
            "781/781 - 33s - loss: 1.3428 - accuracy: 0.5183 - val_loss: 1.2325 - val_accuracy: 0.5654\n",
            "Epoch 4/100\n",
            "781/781 - 32s - loss: 1.2446 - accuracy: 0.5563 - val_loss: 1.1327 - val_accuracy: 0.5982\n",
            "Epoch 5/100\n",
            "781/781 - 32s - loss: 1.1570 - accuracy: 0.5903 - val_loss: 1.0466 - val_accuracy: 0.6311\n",
            "Epoch 6/100\n",
            "781/781 - 32s - loss: 1.0918 - accuracy: 0.6152 - val_loss: 1.0174 - val_accuracy: 0.6447\n",
            "Epoch 7/100\n",
            "781/781 - 32s - loss: 1.0250 - accuracy: 0.6405 - val_loss: 0.9633 - val_accuracy: 0.6597\n",
            "Epoch 8/100\n",
            "781/781 - 32s - loss: 0.9761 - accuracy: 0.6560 - val_loss: 0.8879 - val_accuracy: 0.6875\n",
            "Epoch 9/100\n",
            "781/781 - 32s - loss: 0.9324 - accuracy: 0.6745 - val_loss: 0.9064 - val_accuracy: 0.6885\n",
            "Epoch 10/100\n",
            "781/781 - 32s - loss: 0.8926 - accuracy: 0.6858 - val_loss: 0.8961 - val_accuracy: 0.6849\n",
            "Epoch 11/100\n",
            "781/781 - 33s - loss: 0.8587 - accuracy: 0.6992 - val_loss: 0.8119 - val_accuracy: 0.7192\n",
            "Epoch 12/100\n",
            "781/781 - 32s - loss: 0.8251 - accuracy: 0.7109 - val_loss: 0.8362 - val_accuracy: 0.7150\n",
            "Epoch 13/100\n",
            "781/781 - 32s - loss: 0.7986 - accuracy: 0.7213 - val_loss: 0.7662 - val_accuracy: 0.7389\n",
            "Epoch 14/100\n",
            "781/781 - 32s - loss: 0.7790 - accuracy: 0.7285 - val_loss: 0.7550 - val_accuracy: 0.7364\n",
            "Epoch 15/100\n",
            "781/781 - 32s - loss: 0.7503 - accuracy: 0.7392 - val_loss: 0.7883 - val_accuracy: 0.7256\n",
            "Epoch 16/100\n",
            "781/781 - 32s - loss: 0.7319 - accuracy: 0.7456 - val_loss: 0.7102 - val_accuracy: 0.7529\n",
            "Epoch 17/100\n",
            "781/781 - 32s - loss: 0.7178 - accuracy: 0.7480 - val_loss: 0.7873 - val_accuracy: 0.7340\n",
            "Epoch 18/100\n",
            "781/781 - 32s - loss: 0.6957 - accuracy: 0.7577 - val_loss: 0.7068 - val_accuracy: 0.7577\n",
            "Epoch 19/100\n",
            "781/781 - 32s - loss: 0.6830 - accuracy: 0.7613 - val_loss: 0.7067 - val_accuracy: 0.7564\n",
            "Epoch 20/100\n",
            "781/781 - 32s - loss: 0.6672 - accuracy: 0.7663 - val_loss: 0.7868 - val_accuracy: 0.7400\n",
            "Epoch 21/100\n",
            "781/781 - 32s - loss: 0.6515 - accuracy: 0.7727 - val_loss: 0.6906 - val_accuracy: 0.7662\n",
            "Epoch 22/100\n",
            "781/781 - 32s - loss: 0.6403 - accuracy: 0.7758 - val_loss: 0.7059 - val_accuracy: 0.7582\n",
            "Epoch 23/100\n",
            "781/781 - 32s - loss: 0.6273 - accuracy: 0.7814 - val_loss: 0.6854 - val_accuracy: 0.7656\n",
            "Epoch 24/100\n",
            "781/781 - 32s - loss: 0.6151 - accuracy: 0.7863 - val_loss: 0.6524 - val_accuracy: 0.7762\n",
            "Epoch 25/100\n",
            "781/781 - 32s - loss: 0.6061 - accuracy: 0.7872 - val_loss: 0.6745 - val_accuracy: 0.7727\n",
            "Epoch 26/100\n",
            "781/781 - 32s - loss: 0.5970 - accuracy: 0.7907 - val_loss: 0.6622 - val_accuracy: 0.7722\n",
            "Epoch 27/100\n",
            "781/781 - 33s - loss: 0.5808 - accuracy: 0.7965 - val_loss: 0.6483 - val_accuracy: 0.7756\n",
            "Epoch 28/100\n",
            "781/781 - 32s - loss: 0.5752 - accuracy: 0.7991 - val_loss: 0.6569 - val_accuracy: 0.7773\n",
            "Epoch 29/100\n",
            "781/781 - 32s - loss: 0.5636 - accuracy: 0.8023 - val_loss: 0.6401 - val_accuracy: 0.7807\n",
            "Epoch 30/100\n",
            "781/781 - 32s - loss: 0.5509 - accuracy: 0.8066 - val_loss: 0.6034 - val_accuracy: 0.7986\n",
            "Epoch 31/100\n",
            "781/781 - 32s - loss: 0.5420 - accuracy: 0.8107 - val_loss: 0.6274 - val_accuracy: 0.7882\n",
            "Epoch 32/100\n",
            "781/781 - 32s - loss: 0.5377 - accuracy: 0.8114 - val_loss: 0.6364 - val_accuracy: 0.7852\n",
            "Epoch 33/100\n",
            "781/781 - 32s - loss: 0.5313 - accuracy: 0.8146 - val_loss: 0.6174 - val_accuracy: 0.7923\n",
            "Epoch 34/100\n",
            "781/781 - 32s - loss: 0.5196 - accuracy: 0.8171 - val_loss: 0.6595 - val_accuracy: 0.7806\n",
            "Epoch 35/100\n",
            "781/781 - 32s - loss: 0.5139 - accuracy: 0.8207 - val_loss: 0.6488 - val_accuracy: 0.7821\n",
            "Epoch 36/100\n",
            "781/781 - 32s - loss: 0.5085 - accuracy: 0.8210 - val_loss: 0.6630 - val_accuracy: 0.7859\n",
            "Epoch 37/100\n",
            "781/781 - 32s - loss: 0.4944 - accuracy: 0.8274 - val_loss: 0.6146 - val_accuracy: 0.7994\n",
            "Epoch 38/100\n",
            "781/781 - 32s - loss: 0.4885 - accuracy: 0.8286 - val_loss: 0.6157 - val_accuracy: 0.7976\n",
            "Epoch 39/100\n",
            "781/781 - 32s - loss: 0.4829 - accuracy: 0.8305 - val_loss: 0.5888 - val_accuracy: 0.8067\n",
            "Epoch 40/100\n",
            "781/781 - 32s - loss: 0.4747 - accuracy: 0.8339 - val_loss: 0.6052 - val_accuracy: 0.8044\n",
            "Epoch 41/100\n",
            "781/781 - 31s - loss: 0.4695 - accuracy: 0.8361 - val_loss: 0.6016 - val_accuracy: 0.8050\n",
            "Epoch 42/100\n",
            "781/781 - 31s - loss: 0.4652 - accuracy: 0.8378 - val_loss: 0.5736 - val_accuracy: 0.8103\n",
            "Epoch 43/100\n",
            "781/781 - 31s - loss: 0.4573 - accuracy: 0.8390 - val_loss: 0.6580 - val_accuracy: 0.7869\n",
            "Epoch 44/100\n",
            "781/781 - 32s - loss: 0.4486 - accuracy: 0.8426 - val_loss: 0.5373 - val_accuracy: 0.8216\n",
            "Epoch 45/100\n",
            "781/781 - 31s - loss: 0.4494 - accuracy: 0.8424 - val_loss: 0.5930 - val_accuracy: 0.8029\n",
            "Epoch 46/100\n",
            "781/781 - 31s - loss: 0.4350 - accuracy: 0.8478 - val_loss: 0.6117 - val_accuracy: 0.8028\n",
            "Epoch 47/100\n",
            "781/781 - 32s - loss: 0.4282 - accuracy: 0.8488 - val_loss: 0.5904 - val_accuracy: 0.8109\n",
            "Epoch 48/100\n",
            "781/781 - 31s - loss: 0.4271 - accuracy: 0.8505 - val_loss: 0.6089 - val_accuracy: 0.7986\n",
            "Epoch 49/100\n",
            "781/781 - 31s - loss: 0.4242 - accuracy: 0.8522 - val_loss: 0.6084 - val_accuracy: 0.8064\n",
            "Epoch 50/100\n",
            "781/781 - 31s - loss: 0.4140 - accuracy: 0.8551 - val_loss: 0.5622 - val_accuracy: 0.8146\n",
            "Epoch 51/100\n",
            "781/781 - 31s - loss: 0.4095 - accuracy: 0.8580 - val_loss: 0.6611 - val_accuracy: 0.7952\n",
            "Epoch 52/100\n",
            "781/781 - 31s - loss: 0.4071 - accuracy: 0.8581 - val_loss: 0.6216 - val_accuracy: 0.8050\n",
            "Epoch 53/100\n",
            "781/781 - 31s - loss: 0.4090 - accuracy: 0.8574 - val_loss: 0.5535 - val_accuracy: 0.8178\n",
            "Epoch 54/100\n",
            "781/781 - 31s - loss: 0.3940 - accuracy: 0.8610 - val_loss: 0.5874 - val_accuracy: 0.8127\n",
            "Epoch 55/100\n",
            "781/781 - 31s - loss: 0.3925 - accuracy: 0.8617 - val_loss: 0.5654 - val_accuracy: 0.8172\n",
            "Epoch 56/100\n",
            "781/781 - 31s - loss: 0.3845 - accuracy: 0.8637 - val_loss: 0.5527 - val_accuracy: 0.8184\n",
            "Epoch 57/100\n",
            "781/781 - 30s - loss: 0.3799 - accuracy: 0.8678 - val_loss: 0.6401 - val_accuracy: 0.7976\n",
            "Epoch 58/100\n",
            "781/781 - 31s - loss: 0.3767 - accuracy: 0.8673 - val_loss: 0.5797 - val_accuracy: 0.8154\n",
            "Epoch 59/100\n",
            "781/781 - 32s - loss: 0.3702 - accuracy: 0.8699 - val_loss: 0.5494 - val_accuracy: 0.8254\n",
            "Epoch 60/100\n",
            "781/781 - 31s - loss: 0.3696 - accuracy: 0.8697 - val_loss: 0.5932 - val_accuracy: 0.8063\n",
            "Epoch 61/100\n",
            "781/781 - 31s - loss: 0.3616 - accuracy: 0.8714 - val_loss: 0.5621 - val_accuracy: 0.8201\n",
            "Epoch 62/100\n",
            "781/781 - 31s - loss: 0.3591 - accuracy: 0.8720 - val_loss: 0.6399 - val_accuracy: 0.8024\n",
            "Epoch 63/100\n",
            "781/781 - 31s - loss: 0.3548 - accuracy: 0.8755 - val_loss: 0.5566 - val_accuracy: 0.8222\n",
            "Epoch 64/100\n",
            "781/781 - 31s - loss: 0.3465 - accuracy: 0.8777 - val_loss: 0.5753 - val_accuracy: 0.8189\n",
            "Epoch 65/100\n",
            "781/781 - 31s - loss: 0.3438 - accuracy: 0.8798 - val_loss: 0.5857 - val_accuracy: 0.8179\n",
            "Epoch 66/100\n",
            "781/781 - 30s - loss: 0.3405 - accuracy: 0.8806 - val_loss: 0.5679 - val_accuracy: 0.8232\n",
            "Epoch 67/100\n",
            "781/781 - 31s - loss: 0.3381 - accuracy: 0.8800 - val_loss: 0.5563 - val_accuracy: 0.8272\n",
            "Epoch 68/100\n",
            "781/781 - 31s - loss: 0.3346 - accuracy: 0.8815 - val_loss: 0.6009 - val_accuracy: 0.8136\n",
            "Epoch 69/100\n",
            "781/781 - 31s - loss: 0.3317 - accuracy: 0.8841 - val_loss: 0.5651 - val_accuracy: 0.8231\n",
            "Epoch 70/100\n",
            "781/781 - 31s - loss: 0.3287 - accuracy: 0.8841 - val_loss: 0.5416 - val_accuracy: 0.8278\n",
            "Epoch 71/100\n",
            "781/781 - 31s - loss: 0.3263 - accuracy: 0.8855 - val_loss: 0.5898 - val_accuracy: 0.8212\n",
            "Epoch 72/100\n",
            "781/781 - 30s - loss: 0.3127 - accuracy: 0.8875 - val_loss: 0.5870 - val_accuracy: 0.8163\n",
            "Epoch 73/100\n",
            "781/781 - 30s - loss: 0.3153 - accuracy: 0.8887 - val_loss: 0.6015 - val_accuracy: 0.8223\n",
            "Epoch 74/100\n",
            "781/781 - 31s - loss: 0.3109 - accuracy: 0.8897 - val_loss: 0.5752 - val_accuracy: 0.8232\n",
            "Epoch 75/100\n",
            "781/781 - 31s - loss: 0.3064 - accuracy: 0.8916 - val_loss: 0.6055 - val_accuracy: 0.8174\n",
            "Epoch 76/100\n",
            "781/781 - 31s - loss: 0.3056 - accuracy: 0.8915 - val_loss: 0.5737 - val_accuracy: 0.8236\n",
            "Epoch 77/100\n",
            "781/781 - 30s - loss: 0.3021 - accuracy: 0.8929 - val_loss: 0.5648 - val_accuracy: 0.8254\n",
            "Epoch 78/100\n",
            "781/781 - 30s - loss: 0.2983 - accuracy: 0.8927 - val_loss: 0.5714 - val_accuracy: 0.8266\n",
            "Epoch 79/100\n",
            "781/781 - 30s - loss: 0.2979 - accuracy: 0.8952 - val_loss: 0.5738 - val_accuracy: 0.8282\n",
            "Epoch 80/100\n",
            "781/781 - 30s - loss: 0.2910 - accuracy: 0.8962 - val_loss: 0.5524 - val_accuracy: 0.8296\n",
            "Epoch 81/100\n",
            "781/781 - 30s - loss: 0.2900 - accuracy: 0.8970 - val_loss: 0.5854 - val_accuracy: 0.8227\n",
            "Epoch 82/100\n",
            "781/781 - 31s - loss: 0.2855 - accuracy: 0.8980 - val_loss: 0.6029 - val_accuracy: 0.8179\n",
            "Epoch 83/100\n",
            "781/781 - 31s - loss: 0.2861 - accuracy: 0.8993 - val_loss: 0.5392 - val_accuracy: 0.8331\n",
            "Epoch 84/100\n",
            "781/781 - 30s - loss: 0.2786 - accuracy: 0.9015 - val_loss: 0.5546 - val_accuracy: 0.8337\n",
            "Epoch 85/100\n",
            "781/781 - 30s - loss: 0.2743 - accuracy: 0.9035 - val_loss: 0.5799 - val_accuracy: 0.8252\n",
            "Epoch 86/100\n",
            "781/781 - 31s - loss: 0.2729 - accuracy: 0.9038 - val_loss: 0.6127 - val_accuracy: 0.8221\n",
            "Epoch 87/100\n",
            "781/781 - 30s - loss: 0.2728 - accuracy: 0.9034 - val_loss: 0.5763 - val_accuracy: 0.8250\n",
            "Epoch 88/100\n",
            "781/781 - 30s - loss: 0.2677 - accuracy: 0.9049 - val_loss: 0.5679 - val_accuracy: 0.8320\n",
            "Epoch 89/100\n",
            "781/781 - 30s - loss: 0.2604 - accuracy: 0.9082 - val_loss: 0.5705 - val_accuracy: 0.8288\n",
            "Epoch 90/100\n",
            "781/781 - 30s - loss: 0.2674 - accuracy: 0.9049 - val_loss: 0.5797 - val_accuracy: 0.8260\n",
            "Epoch 91/100\n",
            "781/781 - 30s - loss: 0.2573 - accuracy: 0.9090 - val_loss: 0.5947 - val_accuracy: 0.8312\n",
            "Epoch 92/100\n",
            "781/781 - 30s - loss: 0.2555 - accuracy: 0.9088 - val_loss: 0.5657 - val_accuracy: 0.8348\n",
            "Epoch 93/100\n",
            "781/781 - 30s - loss: 0.2521 - accuracy: 0.9108 - val_loss: 0.5710 - val_accuracy: 0.8341\n",
            "Epoch 94/100\n",
            "781/781 - 30s - loss: 0.2504 - accuracy: 0.9113 - val_loss: 0.5966 - val_accuracy: 0.8267\n",
            "Epoch 95/100\n",
            "781/781 - 30s - loss: 0.2523 - accuracy: 0.9115 - val_loss: 0.5831 - val_accuracy: 0.8303\n",
            "Epoch 96/100\n",
            "781/781 - 30s - loss: 0.2429 - accuracy: 0.9139 - val_loss: 0.5956 - val_accuracy: 0.8324\n",
            "Epoch 97/100\n",
            "781/781 - 30s - loss: 0.2392 - accuracy: 0.9144 - val_loss: 0.5858 - val_accuracy: 0.8284\n",
            "Epoch 98/100\n",
            "781/781 - 30s - loss: 0.2405 - accuracy: 0.9146 - val_loss: 0.5780 - val_accuracy: 0.8342\n",
            "Epoch 99/100\n",
            "781/781 - 31s - loss: 0.2391 - accuracy: 0.9163 - val_loss: 0.5597 - val_accuracy: 0.8390\n",
            "Epoch 100/100\n",
            "781/781 - 31s - loss: 0.2318 - accuracy: 0.9179 - val_loss: 0.5884 - val_accuracy: 0.8352\n",
            "Accuracy in percentage 83.520\n"
          ]
        },
        {
          "output_type": "display_data",
          "data": {
            "image/png": "[encoded data removed]",
            "text/plain": [
              "<Figure size 432x288 with 2 Axes>"
            ]
          },
          "metadata": {
            "needs_background": "light"
          }
        }
      ]
    },
    {
      "cell_type": "code",
      "metadata": {
        "id": "ZJDjDjBE6iLv"
      },
      "source": [
        ""
      ],
      "execution_count": 60,
      "outputs": []
    },
    {
      "cell_type": "code",
      "metadata": {
        "id": "Zr3kbz2k6iQ3"
      },
      "source": [
        ""
      ],
      "execution_count": 60,
      "outputs": []
    },
    {
      "cell_type": "code",
      "metadata": {
        "id": "6Ps1Kpmx6iVs"
      },
      "source": [
        ""
      ],
      "execution_count": 60,
      "outputs": []
    }
  ]
}
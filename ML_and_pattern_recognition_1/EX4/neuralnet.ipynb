{
 "cells": [
  {
   "cell_type": "code",
   "execution_count": null,
   "metadata": {},
   "outputs": [],
   "source": []
  },
  {
   "cell_type": "code",
   "execution_count": null,
   "metadata": {},
   "outputs": [],
   "source": [
    "X_train = x_train.reshape(50000, -1)\n",
    "X_test = x_test.reshape(10000, -1)\n",
    "X_train = X_train.astype('float32')\n",
    "X_test = X_test.astype('float32')\n",
    "# normalization - converting ints to doubles\n",
    "X_train /= 255\n",
    "X_test /= 255\n",
    "X_train.shape, X_test.shape"
   ]
  },
  {
   "cell_type": "code",
   "execution_count": null,
   "metadata": {},
   "outputs": [],
   "source": [
    "n_inputs = 3072  # Each image now is 3072 long  \n",
    "n_hidden1 = 400  # Num of nodes in hidden layer 1\n",
    "n_hidden2 = 250  # Num of nodes in hidden layer 2     \n",
    "n_hidden3 = 64   # Num of nodes in hidden layer 3\n",
    "n_outputs = 10   # number of classes"
   ]
  },
  {
   "cell_type": "code",
   "execution_count": null,
   "metadata": {},
   "outputs": [],
   "source": [
    "X = tf.placeholder(tf.float32, shape = (None, n_inputs), name = \"X\") \n",
    "y = tf.placeholder(tf.int32, shape=(None), name = \"y\")\n",
    "training = tf.placeholder_with_default(False, shape=(), name='training')"
   ]
  },
  {
   "cell_type": "code",
   "execution_count": null,
   "metadata": {},
   "outputs": [],
   "source": [
    "from functools import partial  \n",
    "\n",
    "batch_norm_momentum = 0.9\n",
    "with tf.name_scope(\"dnn\"):\n",
    "    \n",
    "    he_init = tf.contrib.layers.xavier_initializer()\n",
    "    \n",
    "    # 3 Hidden layers, each using sigmoid activation function\n",
    "\n",
    "    hidden1 = tf.layers.dense(X, n_hidden1, name=\"hidden1\")\n",
    "    bn1 = tf.layers.batch_normalization(hidden1, training=training, momentum=0.9) \n",
    "    # Momentum of 0.9 is best known for optimization.\n",
    "    bn1Activation = tf.nn.sigmoid(bn1)\n",
    "    \n",
    "    hidden2 = tf.layers.dense(bn1Activation, n_hidden2, name = \"hidden2\")\n",
    "    bn2 = tf.layers.batch_normalization(hidden2, training=training, momentum=0.9)\n",
    "    bn2Activation = tf.nn.sigmoid(bn2)\n",
    "\n",
    "    hidden3 = tf.layers.dense(bn2Activation, n_hidden3, name = \"hidden3\")\n",
    "    bn3 = tf.layers.batch_normalization(hidden3, training = training, momentum = 0.9)\n",
    "    bn3Activation = tf.nn.sigmoid(bn3)\n",
    "    logits_before_bn = tf.layers.dense(bn3Activation, n_outputs, name = \"outputs\") \n",
    "    \n",
    "\n",
    "with tf.name_scope(\"loss\"):\n",
    "    xentropy = tf.nn.sparse_softmax_cross_entropy_with_logits(labels = y, logits =logits_before_bn)\n",
    "    # labels - vector must provide a single specific index for the true class\n",
    "    \n",
    "    loss = tf.reduce_mean(xentropy, name=\"loss\")\n",
    "    \n",
    "\n",
    "with tf.name_scope(\"train\"):\n",
    "    optimizer = tf.train.AdamOptimizer(learning_rate=0.05, epsilon=1e-06, use_locking=True,name='Adam')\n",
    "    training_op = optimizer.minimize(loss)\n",
    "\n",
    "with tf.name_scope(\"eval\"):\n",
    "    correct = tf.nn.in_top_k(logits_before_bn, y, 1)\n",
    "    accuracy = tf.reduce_mean(tf.cast(correct, tf.float32))"
   ]
  },
  {
   "cell_type": "code",
   "execution_count": null,
   "metadata": {},
   "outputs": [],
   "source": [
    "init = tf.global_variables_initializer()      # initializes the tf.variable/constant/placeholders declared above\n",
    "saver = tf.train.Saver()                      # helps to save the model and reuse later."
   ]
  },
  {
   "cell_type": "code",
   "execution_count": null,
   "metadata": {},
   "outputs": [],
   "source": [
    "# Now divide the test and train datasets into 3 parts, training set, validation set, and testing set\n",
    "# Considering the validation set to have 5000 images\n",
    "X_valid, X_train = X_train[:5000], X_train[5000:]\n",
    "y_valid, y_train = y_train[:5000], y_train[5000:]"
   ]
  },
  {
   "cell_type": "code",
   "execution_count": null,
   "metadata": {},
   "outputs": [],
   "source": [
    "n_epochs = 25\n",
    "batch_size = 6000 \n",
    "\n",
    "# A function to shuffle the whole data set and select different batches randomly with replacement\n",
    "def shuffle_batch(X, y, batch_size):\n",
    "    rnd_idx = np.random.permutation(len(X))\n",
    "    n_batches = len(X) // batch_size\n",
    "    for batch_idx in np.array_split(rnd_idx, n_batches):\n",
    "        X_batch, y_batch = X[batch_idx], y[batch_idx]\n",
    "        yield X_batch, y_batch                         # returns the first batch that was formed"
   ]
  },
  {
   "cell_type": "code",
   "execution_count": null,
   "metadata": {},
   "outputs": [],
   "source": [
    "# Now lets test the model with the built model on Validation Set\n",
    "\n",
    "extra_update_ops = tf.get_collection(tf.GraphKeys.UPDATE_OPS)\n",
    "\n",
    "with tf.Session() as sess:\n",
    "    init.run()\n",
    "    for epoch in range(n_epochs):\n",
    "        for X_batch, y_batch in shuffle_batch(X_train, y_train, batch_size):\n",
    "            sess.run([training_op, extra_update_ops],\n",
    "                     feed_dict={training: True, X: X_batch, y: y_batch.reshape([-1])})\n",
    "        accuracy_val = accuracy.eval(feed_dict={X: X_valid, y: y_valid.reshape([-1])})\n",
    "        print(epoch, \"Validation accuracy:\", accuracy_val)"
   ]
  },
  {
   "cell_type": "code",
   "execution_count": null,
   "metadata": {},
   "outputs": [],
   "source": [
    "# test the results on test set\n",
    "\n",
    "n_epochs = 25\n",
    "batch_size = 5000\n",
    "\n",
    "with tf.Session() as sess:\n",
    "    init.run()\n",
    "\n",
    "    for epoch in range(n_epochs):\n",
    "        for X_batch, y_batch in shuffle_batch(X_train, y_train, batch_size):\n",
    "            sess.run([training_op, extra_update_ops],\n",
    "                     feed_dict={training: True, X: X_batch, y: y_batch.reshape([-1])})\n",
    "        if epoch % 2 == 0:\n",
    "            accuracy_val = accuracy.eval(feed_dict={X: X_test, y: y_test.reshape([-1])})\n",
    "            print(epoch, \"TestSet accuracy:\", accuracy_val)"
   ]
  },
  {
   "cell_type": "code",
   "execution_count": null,
   "metadata": {},
   "outputs": [],
   "source": [
    "bn1Activation = tf.nn.relu(bn1)\n",
    "bn2Activation = tf.nn.relu(bn2)\n",
    "bn3Activation = tf.nn.relu(bn3)"
   ]
  },
  {
   "cell_type": "code",
   "execution_count": null,
   "metadata": {},
   "outputs": [],
   "source": [
    "# Now lets test the model with the built model on Validation Set\n",
    "\n",
    "extra_update_ops = tf.get_collection(tf.GraphKeys.UPDATE_OPS)\n",
    "\n",
    "with tf.Session() as sess:\n",
    "    init.run()\n",
    "    for epoch in range(n_epochs):\n",
    "        for X_batch, y_batch in shuffle_batch(X_train, y_train, batch_size):\n",
    "            sess.run([training_op, extra_update_ops],\n",
    "                     feed_dict={training: True, X: X_batch, y: y_batch.reshape([-1])})\n",
    "        accuracy_val = accuracy.eval(feed_dict={X: X_valid, y: y_valid.reshape([-1])})\n",
    "        print(epoch, \"Validation accuracy:\", accuracy_val)"
   ]
  },
  {
   "cell_type": "code",
   "execution_count": null,
   "metadata": {},
   "outputs": [],
   "source": [
    "# test the results on test set\n",
    "\n",
    "n_epochs = 25\n",
    "batch_size = 5000\n",
    "\n",
    "with tf.Session() as sess:\n",
    "    init.run()\n",
    "\n",
    "    for epoch in range(n_epochs):\n",
    "        for X_batch, y_batch in shuffle_batch(X_train, y_train, batch_size):\n",
    "            sess.run([training_op, extra_update_ops],\n",
    "                     feed_dict={training: True, X: X_batch, y: y_batch.reshape([-1])})\n",
    "        if epoch % 2 == 0:\n",
    "            accuracy_val = accuracy.eval(feed_dict={X: X_test, y: y_test.reshape([-1])})\n",
    "            print(epoch, \"TestSet accuracy:\", accuracy_val)"
   ]
  },
  {
   "cell_type": "code",
   "execution_count": null,
   "metadata": {},
   "outputs": [],
   "source": []
  }
 ],
 "metadata": {
  "kernelspec": {
   "display_name": "Python 3",
   "language": "python",
   "name": "python3"
  },
  "language_info": {
   "codemirror_mode": {
    "name": "ipython",
    "version": 3
   },
   "file_extension": ".py",
   "mimetype": "text/x-python",
   "name": "python",
   "nbconvert_exporter": "python",
   "pygments_lexer": "ipython3",
   "version": "3.6.5"
  }
 },
 "nbformat": 4,
 "nbformat_minor": 2
}

{
 "cells": [
  {
   "cell_type": "code",
   "execution_count": 89,
   "metadata": {},
   "outputs": [
    {
     "name": "stdout",
     "output_type": "stream",
     "text": [
      "50000\n"
     ]
    }
   ],
   "source": [
    "#Bayesian classifier\n",
    "\n",
    "import numpy as np\n",
    "import pandas as pd\n",
    "import pickle\n",
    "import matplotlib.pyplot as plt\n",
    "import math\n",
    "\n",
    "from skimage import transform\n",
    "from scipy.stats import multivariate_normal\n",
    "from scipy.stats import norm\n",
    "from mpmath import mp\n",
    "\n",
    "def unpickle(file):\n",
    "    with open(file, 'rb') as f:\n",
    "        dict = pickle.load(f, encoding=\"latin1\")\n",
    "    return dict\n",
    "\n",
    "#datadict = unpickle('/home/kamarain/Data/cifar-10-batches-py/data_batch_1')\n",
    "datadict = unpickle('C:/Users/danie/Desktop/TUNI/ML-PatternRec/EX2/cifar-10-batches-py/test_batch')\n",
    "\n",
    "X_test = datadict[\"data\"]\n",
    "Y_test = datadict[\"labels\"]\n",
    "\n",
    "#labeldict = unpickle('/home/kamarain/Data/cifar-10-batches-py/batches.meta')\n",
    "labeldict = unpickle('C:/Users/danie/Desktop/TUNI/ML-PatternRec/EX2/cifar-10-batches-py/batches.meta')\n",
    "label_names = labeldict[\"label_names\"]\n",
    "\n",
    "\n",
    "#X = X.reshape(10000, 3, 32, 32).transpose(0,2,3,1).astype(\"uint8\")\n",
    "#X = X.reshape(len(X), 3, 32, 32).transpose(0, 2, 3, 1).astype(\"uint8\") moved to cifar_10_color\n",
    "\n",
    "\n",
    "\n",
    "input_directory= ('C:/Users/danie/Desktop/TUNI/ML-PatternRec/EX2/cifar-10-batches-py/')\n",
    "train_1= unpickle(input_directory+'data_batch_1')\n",
    "train_2= unpickle(input_directory+'data_batch_2')\n",
    "train_3= unpickle(input_directory+'data_batch_3')\n",
    "train_4= unpickle(input_directory+'data_batch_4')\n",
    "train_5= unpickle(input_directory+'data_batch_5')\n",
    "\n",
    "#train_X=np.append(train_1[\"data\"],train_2[\"data\"],train_3[\"data\"],train_4[\"data\"],train_5[\"data\"],axis=0)\n",
    "train_X=np.append(train_1[\"data\"],train_2[\"data\"],axis=0)\n",
    "train_X=np.append(train_X, train_3[\"data\"],axis=0)\n",
    "train_X=np.append(train_X, train_4[\"data\"],axis=0)\n",
    "train_X=np.append(train_X, train_5[\"data\"],axis=0)\n",
    "\n",
    "\n",
    "#print(type(train_1[\"labels\"]))\n",
    "train_Y=train_1[\"labels\"]\n",
    "train_Y.extend(train_2[\"labels\"])\n",
    "train_Y.extend(train_3[\"labels\"])\n",
    "train_Y.extend(train_4[\"labels\"])\n",
    "train_Y.extend(train_5[\"labels\"])\n",
    "\n",
    "train_Y = np.array(train_Y)\n",
    "Y = np.array(Y)\n",
    "print(len(train_Y))\n"
   ]
  },
  {
   "cell_type": "code",
   "execution_count": 90,
   "metadata": {},
   "outputs": [],
   "source": [
    "def cifar_10_color(X,n=1):\n",
    "    color_output=[]\n",
    "    X1=X.copy()\n",
    "    X1 = X1.reshape(X1.shape[0], 3, 32, 32).transpose(0,2,3,1).astype(np.uint8)\n",
    "    for i in range(X1.shape[0]):\n",
    "        resi_resha=transform.resize(X1[i],(n,n)).reshape(n*n*3)\n",
    "        color_output.append(resi_resha)\n",
    "    return np.array(color_output)\n",
    "    "
   ]
  },
  {
   "cell_type": "code",
   "execution_count": 91,
   "metadata": {},
   "outputs": [],
   "source": [
    "def cifar_10_naivebayes_learn(X,Y,isNaive=True):\n",
    "    mean=[]\n",
    "    var=[]\n",
    "    priori=[]\n",
    "    cov=[]\n",
    "    data=np.c_[X,Y]\n",
    "    #np.c_ arrays will be stacked along their last axis after being upgraded to at least 2-D\n",
    "    for i in range(len(label_names)):\n",
    "        filter =np.array([i])\n",
    "        mask = np.in1d(data[:, data.shape[1]-1], filter)\n",
    "        data_1=data[mask]\n",
    "        data_2=[]\n",
    "        current_mean=[]\n",
    "        \n",
    "        for j in range(data_1.shape[1]-1):\n",
    "            current_mean.append(data_1[:,j].mean())\n",
    "           \n",
    "            if not isNaive:\n",
    "                data_2.append(data_1[:,j])\n",
    "        mean.append(current_mean)\n",
    "        priori.append(data_1.shape[0]/Y.shape[0])\n",
    "        current_var=[]\n",
    "        data_2=np.array(data_2)\n",
    "      \n",
    "        for j in range(data_1.shape[1]-1):\n",
    "            if isNaive:\n",
    "                current_var.append(data_1[:,j].var())\n",
    "        if isNaive:\n",
    "            var.append(current_var)\n",
    "        else:\n",
    "            var.append(np.cov(data_2,bias=True))\n",
    "\n",
    "    return np.array(mean), np.array(var), np.array(priori)"
   ]
  },
  {
   "cell_type": "code",
   "execution_count": 92,
   "metadata": {},
   "outputs": [],
   "source": [
    "def gaussian_PDF(x,mean,var):\n",
    "      return (1/math.sqrt(2*math.pi*var))*math.exp(-0.5*((x-mean)**2/var))"
   ]
  },
  {
   "cell_type": "code",
   "execution_count": 93,
   "metadata": {},
   "outputs": [],
   "source": [
    "def multivariate_normal_dist(x, d, mean, cov):\n",
    "    x_m = x - mean\n",
    "    return (1. / (mp.sqrt((2 * np.pi)**d * np.linalg.det(cov))) * mp.exp(-(np.linalg.solve(cov, x_m).T.dot(x_m)) / 2))\n",
    "    # np.linalg.det - compute determinant of array"
   ]
  },
  {
   "cell_type": "code",
   "execution_count": 94,
   "metadata": {},
   "outputs": [],
   "source": [
    "def cifar10_classifier_naivebayes(X,mean, var, apriori, isNaive=True):\n",
    "    Y=[]\n",
    "    for i in range(len(X)):\n",
    "        pred_rgb=[]\n",
    "        for j in range(len(label_names)):\n",
    "            if isNaive:\n",
    "                temp_loop_pred=1\n",
    "                for k in range(mean.shape[1]):\n",
    "                    loop_pred=gaussian_PDF(X[i,k],mean[j,k],var[j,k])\n",
    "                    temp_loop_pred=temp_loop_pred*loop_pred\n",
    "                pred_rgb.append(temp_loop_pred*apriori[j])\n",
    "            else:\n",
    "                \n",
    "                current_var = multivariate_normal(mean=mean[j], cov=var[j]).logpdf(X[i])\n",
    "                #Log of the probability density function evaluated at x\n",
    "                \n",
    "                pred_rgb.append(current_var*apriori[j])\n",
    "            \n",
    "        sum_rgb=sum(pred_rgb)\n",
    "        max_pred=-1\n",
    "        max_label=None\n",
    "        for j in range(len(label_names)):\n",
    "            current_pred=pred_rgb[j]/sum_rgb\n",
    "            if current_pred>max_pred:\n",
    "                max_pred=current_pred\n",
    "                max_label=j\n",
    "        Y.append(max_label)\n",
    "        \n",
    "    return np.array(Y)"
   ]
  },
  {
   "cell_type": "code",
   "execution_count": 95,
   "metadata": {},
   "outputs": [],
   "source": [
    "def class_acc(prediction,ground_truth):\n",
    "    temp=prediction-ground_truth\n",
    "    temp1=temp[temp==0]\n",
    "    return (temp1.size/prediction.size)*100"
   ]
  },
  {
   "cell_type": "code",
   "execution_count": 96,
   "metadata": {},
   "outputs": [
    {
     "name": "stdout",
     "output_type": "stream",
     "text": [
      "naive bayes - accuracy: ==> 19.54\n"
     ]
    }
   ],
   "source": [
    "rgb_mean_training=cifar_10_color(train_X,n=1)\n",
    "mean,var,apriori=cifar_10_naivebayes_learn(rgb_mean_training,train_Y)\n",
    "\n",
    "rgb_mean_testing=cifar_10_color(X_test,n=1)\n",
    "prediction=cifar10_classifier_naivebayes(rgb_mean_testing, mean, var, apriori)\n",
    "\n",
    "acc=class_acc(prediction,Y_test)\n",
    "print(\"naive bayes - accuracy: ==> \"+str(acc))"
   ]
  },
  {
   "cell_type": "code",
   "execution_count": 97,
   "metadata": {},
   "outputs": [
    {
     "name": "stdout",
     "output_type": "stream",
     "text": [
      "bayes multivariate - accuracy: ==> 20.95\n"
     ]
    }
   ],
   "source": [
    "rgb_mean_training=cifar_10_color(train_X)\n",
    "mean,var,apriori=cifar_10_naivebayes_learn(rgb_mean_training,train_Y,isNaive=False)\n",
    "\n",
    "rgb_mean_testing=cifar_10_color(X_test)\n",
    "prediction=cifar10_classifier_naivebayes(rgb_mean_testing,mean,var,apriori,isNaive=False)\n",
    "\n",
    "acc=class_acc(prediction,Y_test)\n",
    "print(\"bayes multivariate - accuracy: ==> \"+str(acc))"
   ]
  },
  {
   "cell_type": "code",
   "execution_count": null,
   "metadata": {},
   "outputs": [
    {
     "name": "stdout",
     "output_type": "stream",
     "text": [
      " bayes multivariate with n==> 2 accuracy: ==> 30.11\n",
      " bayes multivariate with n==> 3 accuracy: ==> 38.65\n",
      " bayes multivariate with n==> 4 accuracy: ==> 39.0\n",
      " bayes multivariate with n==> 5 accuracy: ==> 39.77\n",
      " bayes multivariate with n==> 6 accuracy: ==> 40.47\n",
      " bayes multivariate with n==> 7 accuracy: ==> 40.489999999999995\n",
      " bayes multivariate with n==> 8 accuracy: ==> 40.75\n",
      " bayes multivariate with n==> 9 accuracy: ==> 41.06\n",
      " bayes multivariate with n==> 10 accuracy: ==> 41.48\n",
      " bayes multivariate with n==> 11 accuracy: ==> 41.44\n",
      " bayes multivariate with n==> 12 accuracy: ==> 41.6\n"
     ]
    }
   ],
   "source": [
    "N=list(range(2,16))\n",
    "N_1=[1]\n",
    "acc_list=[acc]\n",
    "for i in N:\n",
    "    try:\n",
    "        rgb_mean_training=cifar_10_color(train_X,n=i)\n",
    "        mean,var,apriori=cifar_10_naivebayes_learn(rgb_mean_training, train_Y, isNaive=False)\n",
    "        \n",
    "        rgb_mean_testing=cifar_10_color(X_test,n=i)\n",
    "        prediction=cifar10_classifier_naivebayes(rgb_mean_testing,mean,var,apriori,isNaive=False)\n",
    "        \n",
    "        acc=class_acc(prediction, Y_test)\n",
    "        print(\" bayes multivariate with n==> \"+str(i)+\" accuracy: ==> \"+str(acc))\n",
    "        acc_list.append(acc)\n",
    "        N_1.append(i)\n",
    "    except:\n",
    "        print(\"exception occured when N = \"+str(i)+\" skipping the rest\")\n",
    "        break"
   ]
  },
  {
   "cell_type": "code",
   "execution_count": null,
   "metadata": {},
   "outputs": [],
   "source": [
    "plt.plot(np.array(N_1),np.array(acc_list))"
   ]
  },
  {
   "cell_type": "code",
   "execution_count": null,
   "metadata": {},
   "outputs": [],
   "source": []
  },
  {
   "cell_type": "code",
   "execution_count": null,
   "metadata": {},
   "outputs": [],
   "source": []
  },
  {
   "cell_type": "code",
   "execution_count": null,
   "metadata": {},
   "outputs": [],
   "source": []
  },
  {
   "cell_type": "code",
   "execution_count": null,
   "metadata": {},
   "outputs": [],
   "source": []
  },
  {
   "cell_type": "code",
   "execution_count": null,
   "metadata": {},
   "outputs": [],
   "source": []
  },
  {
   "cell_type": "code",
   "execution_count": null,
   "metadata": {},
   "outputs": [],
   "source": []
  },
  {
   "cell_type": "code",
   "execution_count": null,
   "metadata": {},
   "outputs": [],
   "source": []
  },
  {
   "cell_type": "code",
   "execution_count": null,
   "metadata": {},
   "outputs": [],
   "source": []
  },
  {
   "cell_type": "code",
   "execution_count": null,
   "metadata": {},
   "outputs": [],
   "source": []
  },
  {
   "cell_type": "code",
   "execution_count": null,
   "metadata": {},
   "outputs": [],
   "source": []
  },
  {
   "cell_type": "code",
   "execution_count": null,
   "metadata": {},
   "outputs": [],
   "source": []
  },
  {
   "cell_type": "code",
   "execution_count": null,
   "metadata": {},
   "outputs": [],
   "source": []
  }
 ],
 "metadata": {
  "kernelspec": {
   "display_name": "Python 3",
   "language": "python",
   "name": "python3"
  },
  "language_info": {
   "codemirror_mode": {
    "name": "ipython",
    "version": 3
   },
   "file_extension": ".py",
   "mimetype": "text/x-python",
   "name": "python",
   "nbconvert_exporter": "python",
   "pygments_lexer": "ipython3",
   "version": "3.6.5"
  }
 },
 "nbformat": 4,
 "nbformat_minor": 2
}

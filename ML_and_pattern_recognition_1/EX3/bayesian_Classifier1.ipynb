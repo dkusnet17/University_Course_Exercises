{
 "cells": [
  {
   "cell_type": "code",
   "execution_count": 70,
   "metadata": {},
   "outputs": [
    {
     "name": "stdout",
     "output_type": "stream",
     "text": [
      "50000\n"
     ]
    }
   ],
   "source": [
    "#Bayesian classifier\n",
    "import skimage.transform\n",
    "import numpy as np\n",
    "import pandas as pd\n",
    "import pickle\n",
    "import matplotlib.pyplot as plt\n",
    "import math\n",
    "\n",
    "from skimage import data, color\n",
    "from skimage.transform import rescale, resize\n",
    "\n",
    "def unpickle(file):\n",
    "    with open(file, 'rb') as f:\n",
    "        dict = pickle.load(f, encoding=\"latin1\")\n",
    "    return dict\n",
    "\n",
    "#datadict = unpickle('/home/kamarain/Data/cifar-10-batches-py/data_batch_1')\n",
    "datadict = unpickle('C:/Users/danie/Desktop/TUNI/ML-PatternRec/EX2/cifar-10-batches-py/test_batch')\n",
    "\n",
    "X = datadict[\"data\"]\n",
    "Y = datadict[\"labels\"]\n",
    "\n",
    "#labeldict = unpickle('/home/kamarain/Data/cifar-10-batches-py/batches.meta')\n",
    "labeldict = unpickle('C:/Users/danie/Desktop/TUNI/ML-PatternRec/EX2/cifar-10-batches-py/batches.meta')\n",
    "label_names = labeldict[\"label_names\"]\n",
    "\n",
    "\n",
    "#X = X.reshape(10000, 3, 32, 32).transpose(0,2,3,1).astype(\"uint8\")\n",
    "X = X.reshape(len(X), 3, 32, 32).transpose(0, 2, 3, 1).astype(\"uint8\")\n",
    "##np.resize\n",
    "\n",
    "\n",
    "input_directory= ('C:/Users/danie/Desktop/TUNI/ML-PatternRec/EX2/cifar-10-batches-py/')\n",
    "train_1= unpickle(input_directory+'data_batch_1')\n",
    "train_2= unpickle(input_directory+'data_batch_2')\n",
    "train_3= unpickle(input_directory+'data_batch_3')\n",
    "train_4= unpickle(input_directory+'data_batch_4')\n",
    "train_5= unpickle(input_directory+'data_batch_5')\n",
    "\n",
    "#train_X=np.append(train_1[\"data\"],train_2[\"data\"],train_3[\"data\"],train_4[\"data\"],train_5[\"data\"],axis=0)\n",
    "train_X=np.append(train_1[\"data\"],train_2[\"data\"],axis=0)\n",
    "train_X=np.append(train_X, train_3[\"data\"],axis=0)\n",
    "train_X=np.append(train_X, train_4[\"data\"],axis=0)\n",
    "train_X=np.append(train_X, train_5[\"data\"],axis=0)\n",
    "\n",
    "\n",
    "#print(type(train_1[\"labels\"]))\n",
    "train_Y=train_1[\"labels\"]\n",
    "train_Y.extend(train_2[\"labels\"])\n",
    "train_Y.extend(train_3[\"labels\"])\n",
    "train_Y.extend(train_4[\"labels\"])\n",
    "train_Y.extend(train_5[\"labels\"])\n",
    "\n",
    "train_Y = np.array(train_Y)\n",
    "Y = np.array(Y)\n",
    "print(len(train_Y))\n"
   ]
  },
  {
   "cell_type": "code",
   "execution_count": 71,
   "metadata": {},
   "outputs": [],
   "source": [
    "def cifar_10_color(X,n=1):\n",
    "    color_out=[]\n",
    "    X_=X.copy()\n",
    "    X_ = X_.reshape(X_.shape[0], 3, 32, 32).transpose(0,2,3,1).astype(np.uint8)\n",
    "    for i in range(X_.shape[0]):\n",
    "        q=transform.resize(X_[i],(n,n)).reshape(n*n*3)\n",
    "        color_out.append(q)\n",
    "    return np.array(color_out)\n",
    "    "
   ]
  },
  {
   "cell_type": "code",
   "execution_count": 72,
   "metadata": {},
   "outputs": [
    {
     "ename": "IndexError",
     "evalue": "too many indices for array",
     "output_type": "error",
     "traceback": [
      "\u001b[1;31m---------------------------------------------------------------------------\u001b[0m",
      "\u001b[1;31mIndexError\u001b[0m                                Traceback (most recent call last)",
      "\u001b[1;32m<ipython-input-72-c343a4dc9fd7>\u001b[0m in \u001b[0;36m<module>\u001b[1;34m()\u001b[0m\n\u001b[1;32m----> 1\u001b[1;33m \u001b[0mcolorsCompressed\u001b[0m \u001b[1;33m=\u001b[0m \u001b[0mcifar10_color\u001b[0m\u001b[1;33m(\u001b[0m\u001b[0mtrain_X\u001b[0m\u001b[1;33m)\u001b[0m\u001b[1;33m\u001b[0m\u001b[0m\n\u001b[0m\u001b[0;32m      2\u001b[0m \u001b[0mcolorsCompressed\u001b[0m\u001b[1;33m[\u001b[0m\u001b[1;33m:\u001b[0m\u001b[1;36m10\u001b[0m\u001b[1;33m]\u001b[0m\u001b[1;33m\u001b[0m\u001b[0m\n",
      "\u001b[1;32m<ipython-input-71-d9e308bfc2e2>\u001b[0m in \u001b[0;36mcifar10_color\u001b[1;34m(x)\u001b[0m\n\u001b[0;32m      1\u001b[0m \u001b[1;32mdef\u001b[0m \u001b[0mcifar10_color\u001b[0m\u001b[1;33m(\u001b[0m\u001b[0mx\u001b[0m\u001b[1;33m)\u001b[0m\u001b[1;33m:\u001b[0m\u001b[1;33m\u001b[0m\u001b[0m\n\u001b[0;32m      2\u001b[0m \u001b[1;33m\u001b[0m\u001b[0m\n\u001b[1;32m----> 3\u001b[1;33m     \u001b[0mredColors\u001b[0m \u001b[1;33m=\u001b[0m \u001b[0mx\u001b[0m\u001b[1;33m[\u001b[0m\u001b[1;33m:\u001b[0m\u001b[1;33m,\u001b[0m \u001b[1;33m:\u001b[0m\u001b[1;33m,\u001b[0m \u001b[1;33m:\u001b[0m\u001b[1;33m,\u001b[0m \u001b[1;36m0\u001b[0m\u001b[1;33m]\u001b[0m\u001b[1;33m\u001b[0m\u001b[0m\n\u001b[0m\u001b[0;32m      4\u001b[0m     \u001b[0mgreenColors\u001b[0m \u001b[1;33m=\u001b[0m \u001b[0mx\u001b[0m\u001b[1;33m[\u001b[0m\u001b[1;33m:\u001b[0m\u001b[1;33m,\u001b[0m \u001b[1;33m:\u001b[0m\u001b[1;33m,\u001b[0m \u001b[1;33m:\u001b[0m\u001b[1;33m,\u001b[0m \u001b[1;36m1\u001b[0m\u001b[1;33m]\u001b[0m\u001b[1;33m\u001b[0m\u001b[0m\n\u001b[0;32m      5\u001b[0m     \u001b[0mblueColors\u001b[0m \u001b[1;33m=\u001b[0m \u001b[0mx\u001b[0m\u001b[1;33m[\u001b[0m\u001b[1;33m:\u001b[0m\u001b[1;33m,\u001b[0m \u001b[1;33m:\u001b[0m\u001b[1;33m,\u001b[0m \u001b[1;33m:\u001b[0m\u001b[1;33m,\u001b[0m \u001b[1;36m2\u001b[0m\u001b[1;33m]\u001b[0m\u001b[1;33m\u001b[0m\u001b[0m\n",
      "\u001b[1;31mIndexError\u001b[0m: too many indices for array"
     ]
    }
   ],
   "source": [
    "def cifar_10_naivebayes_learn(X,Y,isNaive=True):\n",
    "    mean=[]\n",
    "    variance=[]\n",
    "    priori=[]\n",
    "    covariance=[]\n",
    "    data=np.c_[X,Y]\n",
    "    for i in range(len(label_names)):\n",
    "        filter =np.array([i])\n",
    "        mask = np.in1d(data[:, data.shape[1]-1], filter)\n",
    "        data1=data[mask]\n",
    "        data_t=[]\n",
    "        cur_mean=[]\n",
    "        for j in range(data1.shape[1]-1):\n",
    "            cur_mean.append(data1[:,j].mean())\n",
    "           \n",
    "            if not isNaive:\n",
    "                data_t.append(data1[:,j])\n",
    "        mean.append(cur_mean)\n",
    "        priori.append(data1.shape[0]/Y.shape[0])\n",
    "        cur_var=[]\n",
    "        data_t=np.array(data_t)\n",
    "      \n",
    "        for j in range(data1.shape[1]-1):\n",
    "            if isNaive:\n",
    "                cur_var.append(data1[:,j].var())\n",
    "        if isNaive:\n",
    "            variance.append(cur_var)\n",
    "        else:\n",
    "            variance.append(np.cov(data_t,bias=True))\n",
    "\n",
    "    return np.array(mean),np.array(variance),np.array(priori)"
   ]
  },
  {
   "cell_type": "code",
   "execution_count": null,
   "metadata": {},
   "outputs": [],
   "source": [
    "def gaussian_pdf(x,mean,var):\n",
    "      return (1/math.sqrt(2*math.pi*var))*math.exp(-0.5*((x-mean)**2/var))"
   ]
  },
  {
   "cell_type": "code",
   "execution_count": null,
   "metadata": {},
   "outputs": [],
   "source": [
    "def multivariate_normal_DIY(x, d, mean, covariance):\n",
    "    x_m = x - mean\n",
    "    return (1. / (mp.sqrt((2 * np.pi)**d * np.linalg.det(covariance))) * mp.exp(-(np.linalg.solve(covariance, x_m).T.dot(x_m)) / 2))"
   ]
  },
  {
   "cell_type": "code",
   "execution_count": null,
   "metadata": {},
   "outputs": [],
   "source": [
    "def cifar10_classifier_naivebayes(X,mean,var,prioric,isNaive=True):\n",
    "    Y=[]\n",
    "    for i in range(len(X)):\n",
    "        p_rgb=[]\n",
    "        for j in range(len(label_names)):\n",
    "            if isNaive:\n",
    "                temp_ijk_p=1\n",
    "                for k in range(mean.shape[1]):\n",
    "                    ijk_p=gaussian_pdf(X[i,k],mean[j,k],var[j,k])\n",
    "                    temp_ijk_p=temp_ijk_p*ijk_p\n",
    "                p_rgb.append(temp_ijk_p*prioric[j])\n",
    "            else:\n",
    "                #current_var=multivariate_normal_DIY(X[i], var[j].shape[0], mean[j], var[j])\n",
    "                current_var = multivariate_normal(mean=mean[j], cov=var[j]).logpdf(X[i])\n",
    "                #print(\"@@2label===>\"+str(j)+\" current_var is ==> \"+str(current_var))\n",
    "                p_rgb.append(current_var*prioric[j])\n",
    "            \n",
    "        sum_rgb=sum(p_rgb)\n",
    "        max_p=-1\n",
    "        max_label=None\n",
    "        for j in range(len(label_names)):\n",
    "            current_p=p_rgb[j]/sum_rgb\n",
    "            #print(\"label===>\"+str(j)+\" current_p is ==> \"+str(current_p)+\"p_rgp==> \"+str(p_rgb))\n",
    "            if current_p>max_p:\n",
    "                max_p=current_p\n",
    "                max_label=j\n",
    "        #print(\"label for ==> \"+str(i) +\"is ==> \"+str(max_label)+\" its max prob ==> \"+str(max_p))\n",
    "        Y.append(max_label)\n",
    "        \n",
    "    return np.array(Y)"
   ]
  },
  {
   "cell_type": "code",
   "execution_count": null,
   "metadata": {},
   "outputs": [],
   "source": [
    "def class_acc(pred,gt):\n",
    "    temp=pred-gt\n",
    "    temp1=temp[temp==0]\n",
    "    return (temp1.size/pred.size)*100"
   ]
  },
  {
   "cell_type": "code",
   "execution_count": null,
   "metadata": {},
   "outputs": [],
   "source": [
    "train_rgb_mean=cifar_10_color(train_X,n=1)\n",
    "mean,var,prioric=cifar_10_naivebayes_learn(train_rgb_mean,train_Y)\n",
    "test_rgb_mean=cifar_10_color(test_X,n=1)\n",
    "pred=cifar10_classifier_naivebayes(test_rgb_mean,mean,var,prioric)\n",
    "acc=class_acc(pred,test_Y)\n",
    "print(\" naive bayes algo - accuracy in percentage ==> \"+str(acc))"
   ]
  },
  {
   "cell_type": "code",
   "execution_count": null,
   "metadata": {},
   "outputs": [],
   "source": [
    "train_rgb_mean=cifar_10_color(train_X)\n",
    "mean,var,prioric=cifar_10_naivebayes_learn(train_rgb_mean,train_Y,isNaive=False)\n",
    "test_rgb_mean=cifar_10_color(test_X)\n",
    "pred=cifar10_classifier_naivebayes(test_rgb_mean,mean,var,prioric,isNaive=False)\n",
    "acc=class_acc(pred,test_Y)\n",
    "print(\"  bayes algo (multivariate) - accuracy in percentage ==> \"+str(acc))"
   ]
  },
  {
   "cell_type": "code",
   "execution_count": null,
   "metadata": {},
   "outputs": [],
   "source": [
    "N=list(range(2,16))\n",
    "new_N=[1]\n",
    "acc_list=[acc]\n",
    "for i in N:\n",
    "    try:\n",
    "        train_rgb_mean=cifar_10_color(train_X,n=i)\n",
    "        mean,var,prioric=cifar_10_naivebayes_learn(train_rgb_mean,train_Y,isNaive=False)\n",
    "        test_rgb_mean=cifar_10_color(test_X,n=i)\n",
    "        pred=cifar10_classifier_naivebayes(test_rgb_mean,mean,var,prioric,isNaive=False)\n",
    "        acc=class_acc(pred,test_Y)\n",
    "        print(\"  bayes algo (multivariate) with n==> \"+str(i)+\" accuracy in percentage ==> \"+str(acc))\n",
    "        acc_list.append(acc)\n",
    "        new_N.append(i)\n",
    "    except:\n",
    "        print(\"exception occurer while N is ==> \"+str(i)+\" skipping for rest of the N values\")\n",
    "        break"
   ]
  },
  {
   "cell_type": "code",
   "execution_count": null,
   "metadata": {},
   "outputs": [],
   "source": [
    "plt.plot(np.array(new_N),np.array(acc_list))"
   ]
  },
  {
   "cell_type": "code",
   "execution_count": null,
   "metadata": {},
   "outputs": [],
   "source": []
  },
  {
   "cell_type": "code",
   "execution_count": null,
   "metadata": {},
   "outputs": [],
   "source": []
  },
  {
   "cell_type": "code",
   "execution_count": 73,
   "metadata": {},
   "outputs": [],
   "source": []
  },
  {
   "cell_type": "code",
   "execution_count": 74,
   "metadata": {},
   "outputs": [
    {
     "ename": "NameError",
     "evalue": "name 'colorsCompressed' is not defined",
     "output_type": "error",
     "traceback": [
      "\u001b[1;31m---------------------------------------------------------------------------\u001b[0m",
      "\u001b[1;31mNameError\u001b[0m                                 Traceback (most recent call last)",
      "\u001b[1;32m<ipython-input-74-20ee8bda7160>\u001b[0m in \u001b[0;36m<module>\u001b[1;34m()\u001b[0m\n\u001b[1;32m----> 1\u001b[1;33m \u001b[0mmu\u001b[0m\u001b[1;33m,\u001b[0m \u001b[0msigma\u001b[0m\u001b[1;33m,\u001b[0m \u001b[0mp\u001b[0m \u001b[1;33m=\u001b[0m \u001b[0mcifar10_naivebayes_learn\u001b[0m\u001b[1;33m(\u001b[0m\u001b[0mcolorsCompressed\u001b[0m\u001b[1;33m,\u001b[0m \u001b[0mtrain_Y\u001b[0m\u001b[1;33m)\u001b[0m\u001b[1;33m\u001b[0m\u001b[0m\n\u001b[0m",
      "\u001b[1;31mNameError\u001b[0m: name 'colorsCompressed' is not defined"
     ]
    }
   ],
   "source": []
  },
  {
   "cell_type": "code",
   "execution_count": 75,
   "metadata": {},
   "outputs": [],
   "source": []
  },
  {
   "cell_type": "code",
   "execution_count": 76,
   "metadata": {},
   "outputs": [],
   "source": []
  },
  {
   "cell_type": "code",
   "execution_count": 77,
   "metadata": {},
   "outputs": [
    {
     "ename": "NameError",
     "evalue": "name 'mu' is not defined",
     "output_type": "error",
     "traceback": [
      "\u001b[1;31m---------------------------------------------------------------------------\u001b[0m",
      "\u001b[1;31mNameError\u001b[0m                                 Traceback (most recent call last)",
      "\u001b[1;32m<ipython-input-77-2bcd7b9ae655>\u001b[0m in \u001b[0;36m<module>\u001b[1;34m()\u001b[0m\n\u001b[0;32m      1\u001b[0m \u001b[0mcompressed_test\u001b[0m \u001b[1;33m=\u001b[0m \u001b[0mcifar_10_features\u001b[0m\u001b[1;33m(\u001b[0m\u001b[0mX\u001b[0m\u001b[1;33m)\u001b[0m\u001b[1;33m\u001b[0m\u001b[0m\n\u001b[1;32m----> 2\u001b[1;33m \u001b[0mpred_class\u001b[0m \u001b[1;33m=\u001b[0m \u001b[0mcifar_10_bayes_classify\u001b[0m\u001b[1;33m(\u001b[0m\u001b[0mmu\u001b[0m\u001b[1;33m,\u001b[0m \u001b[0msigma\u001b[0m\u001b[1;33m,\u001b[0m \u001b[0mcompressed_test\u001b[0m\u001b[1;33m)\u001b[0m\u001b[1;33m\u001b[0m\u001b[0m\n\u001b[0m",
      "\u001b[1;31mNameError\u001b[0m: name 'mu' is not defined"
     ]
    }
   ],
   "source": []
  },
  {
   "cell_type": "code",
   "execution_count": 78,
   "metadata": {},
   "outputs": [],
   "source": []
  },
  {
   "cell_type": "code",
   "execution_count": 79,
   "metadata": {},
   "outputs": [
    {
     "ename": "SyntaxError",
     "evalue": "invalid syntax (<ipython-input-79-c5ce340c9f71>, line 1)",
     "output_type": "error",
     "traceback": [
      "\u001b[1;36m  File \u001b[1;32m\"<ipython-input-79-c5ce340c9f71>\"\u001b[1;36m, line \u001b[1;32m1\u001b[0m\n\u001b[1;33m    print(\"The accuracy of Naive Bayes: mean colors is:\", round(testingAccuracy(, pred_class), 2), \"%\")\u001b[0m\n\u001b[1;37m                                                                                ^\u001b[0m\n\u001b[1;31mSyntaxError\u001b[0m\u001b[1;31m:\u001b[0m invalid syntax\n"
     ]
    }
   ],
   "source": []
  },
  {
   "cell_type": "code",
   "execution_count": null,
   "metadata": {},
   "outputs": [],
   "source": []
  },
  {
   "cell_type": "code",
   "execution_count": null,
   "metadata": {},
   "outputs": [],
   "source": []
  },
  {
   "cell_type": "code",
   "execution_count": null,
   "metadata": {},
   "outputs": [],
   "source": []
  }
 ],
 "metadata": {
  "kernelspec": {
   "display_name": "Python 3",
   "language": "python",
   "name": "python3"
  },
  "language_info": {
   "codemirror_mode": {
    "name": "ipython",
    "version": 3
   },
   "file_extension": ".py",
   "mimetype": "text/x-python",
   "name": "python",
   "nbconvert_exporter": "python",
   "pygments_lexer": "ipython3",
   "version": "3.6.5"
  }
 },
 "nbformat": 4,
 "nbformat_minor": 2
}

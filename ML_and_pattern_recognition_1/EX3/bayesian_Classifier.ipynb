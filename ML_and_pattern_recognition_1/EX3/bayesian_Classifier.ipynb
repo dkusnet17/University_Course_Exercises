{
 "cells": [
  {
   "cell_type": "code",
   "execution_count": 70,
   "metadata": {},
   "outputs": [
    {
     "name": "stdout",
     "output_type": "stream",
     "text": [
      "50000\n"
     ]
    }
   ],
   "source": [
    "#Bayesian classifier\n",
    "import skimage.transform\n",
    "import numpy as np\n",
    "import pandas as pd\n",
    "import pickle\n",
    "import matplotlib.pyplot as plt\n",
    "import math\n",
    "\n",
    "from skimage import data, color\n",
    "from skimage.transform import rescale, resize\n",
    "\n",
    "def unpickle(file):\n",
    "    with open(file, 'rb') as f:\n",
    "        dict = pickle.load(f, encoding=\"latin1\")\n",
    "    return dict\n",
    "\n",
    "#datadict = unpickle('/home/kamarain/Data/cifar-10-batches-py/data_batch_1')\n",
    "datadict = unpickle('C:/Users/danie/Desktop/TUNI/ML-PatternRec/EX2/cifar-10-batches-py/test_batch')\n",
    "\n",
    "X = datadict[\"data\"]\n",
    "Y = datadict[\"labels\"]\n",
    "\n",
    "#labeldict = unpickle('/home/kamarain/Data/cifar-10-batches-py/batches.meta')\n",
    "labeldict = unpickle('C:/Users/danie/Desktop/TUNI/ML-PatternRec/EX2/cifar-10-batches-py/batches.meta')\n",
    "label_names = labeldict[\"label_names\"]\n",
    "\n",
    "\n",
    "#X = X.reshape(10000, 3, 32, 32).transpose(0,2,3,1).astype(\"uint8\")\n",
    "X = X.reshape(len(X), 3, 32, 32).transpose(0, 2, 3, 1).astype(\"uint8\")\n",
    "##np.resize\n",
    "\n",
    "\n",
    "input_directory= ('C:/Users/danie/Desktop/TUNI/ML-PatternRec/EX2/cifar-10-batches-py/')\n",
    "train_1= unpickle(input_directory+'data_batch_1')\n",
    "train_2= unpickle(input_directory+'data_batch_2')\n",
    "train_3= unpickle(input_directory+'data_batch_3')\n",
    "train_4= unpickle(input_directory+'data_batch_4')\n",
    "train_5= unpickle(input_directory+'data_batch_5')\n",
    "\n",
    "#train_X=np.append(train_1[\"data\"],train_2[\"data\"],train_3[\"data\"],train_4[\"data\"],train_5[\"data\"],axis=0)\n",
    "train_X=np.append(train_1[\"data\"],train_2[\"data\"],axis=0)\n",
    "train_X=np.append(train_X, train_3[\"data\"],axis=0)\n",
    "train_X=np.append(train_X, train_4[\"data\"],axis=0)\n",
    "train_X=np.append(train_X, train_5[\"data\"],axis=0)\n",
    "\n",
    "\n",
    "#print(type(train_1[\"labels\"]))\n",
    "train_Y=train_1[\"labels\"]\n",
    "train_Y.extend(train_2[\"labels\"])\n",
    "train_Y.extend(train_3[\"labels\"])\n",
    "train_Y.extend(train_4[\"labels\"])\n",
    "train_Y.extend(train_5[\"labels\"])\n",
    "\n",
    "train_Y = np.array(train_Y)\n",
    "Y = np.array(Y)\n",
    "print(len(train_Y))\n"
   ]
  },
  {
   "cell_type": "code",
   "execution_count": 71,
   "metadata": {},
   "outputs": [],
   "source": [
    "def cifar10_color(x):\n",
    "    \n",
    "    redColors = x[:, :, :, 0]\n",
    "    greenColors = x[:, :, :, 1]\n",
    "    blueColors = x[:, :, :, 2]\n",
    "    \n",
    "    r = np.mean(redColors, axis = 1) \n",
    "    r = np.mean(r, axis = 1)\n",
    "    \n",
    "    g = np.mean(greenColors, axis = 1)\n",
    "    g = np.mean(g, axis = 1)\n",
    "    \n",
    "    b = np.mean(blueColors, axis = 1)\n",
    "    b = np.mean(b, axis = 1)\n",
    "    \n",
    "    m = np.asmatrix([r, g, b])\n",
    "    m = m.transpose()\n",
    "    \n",
    "    return(m)"
   ]
  },
  {
   "cell_type": "code",
   "execution_count": 72,
   "metadata": {},
   "outputs": [
    {
     "ename": "IndexError",
     "evalue": "too many indices for array",
     "output_type": "error",
     "traceback": [
      "\u001b[1;31m---------------------------------------------------------------------------\u001b[0m",
      "\u001b[1;31mIndexError\u001b[0m                                Traceback (most recent call last)",
      "\u001b[1;32m<ipython-input-72-c343a4dc9fd7>\u001b[0m in \u001b[0;36m<module>\u001b[1;34m()\u001b[0m\n\u001b[1;32m----> 1\u001b[1;33m \u001b[0mcolorsCompressed\u001b[0m \u001b[1;33m=\u001b[0m \u001b[0mcifar10_color\u001b[0m\u001b[1;33m(\u001b[0m\u001b[0mtrain_X\u001b[0m\u001b[1;33m)\u001b[0m\u001b[1;33m\u001b[0m\u001b[0m\n\u001b[0m\u001b[0;32m      2\u001b[0m \u001b[0mcolorsCompressed\u001b[0m\u001b[1;33m[\u001b[0m\u001b[1;33m:\u001b[0m\u001b[1;36m10\u001b[0m\u001b[1;33m]\u001b[0m\u001b[1;33m\u001b[0m\u001b[0m\n",
      "\u001b[1;32m<ipython-input-71-d9e308bfc2e2>\u001b[0m in \u001b[0;36mcifar10_color\u001b[1;34m(x)\u001b[0m\n\u001b[0;32m      1\u001b[0m \u001b[1;32mdef\u001b[0m \u001b[0mcifar10_color\u001b[0m\u001b[1;33m(\u001b[0m\u001b[0mx\u001b[0m\u001b[1;33m)\u001b[0m\u001b[1;33m:\u001b[0m\u001b[1;33m\u001b[0m\u001b[0m\n\u001b[0;32m      2\u001b[0m \u001b[1;33m\u001b[0m\u001b[0m\n\u001b[1;32m----> 3\u001b[1;33m     \u001b[0mredColors\u001b[0m \u001b[1;33m=\u001b[0m \u001b[0mx\u001b[0m\u001b[1;33m[\u001b[0m\u001b[1;33m:\u001b[0m\u001b[1;33m,\u001b[0m \u001b[1;33m:\u001b[0m\u001b[1;33m,\u001b[0m \u001b[1;33m:\u001b[0m\u001b[1;33m,\u001b[0m \u001b[1;36m0\u001b[0m\u001b[1;33m]\u001b[0m\u001b[1;33m\u001b[0m\u001b[0m\n\u001b[0m\u001b[0;32m      4\u001b[0m     \u001b[0mgreenColors\u001b[0m \u001b[1;33m=\u001b[0m \u001b[0mx\u001b[0m\u001b[1;33m[\u001b[0m\u001b[1;33m:\u001b[0m\u001b[1;33m,\u001b[0m \u001b[1;33m:\u001b[0m\u001b[1;33m,\u001b[0m \u001b[1;33m:\u001b[0m\u001b[1;33m,\u001b[0m \u001b[1;36m1\u001b[0m\u001b[1;33m]\u001b[0m\u001b[1;33m\u001b[0m\u001b[0m\n\u001b[0;32m      5\u001b[0m     \u001b[0mblueColors\u001b[0m \u001b[1;33m=\u001b[0m \u001b[0mx\u001b[0m\u001b[1;33m[\u001b[0m\u001b[1;33m:\u001b[0m\u001b[1;33m,\u001b[0m \u001b[1;33m:\u001b[0m\u001b[1;33m,\u001b[0m \u001b[1;33m:\u001b[0m\u001b[1;33m,\u001b[0m \u001b[1;36m2\u001b[0m\u001b[1;33m]\u001b[0m\u001b[1;33m\u001b[0m\u001b[0m\n",
      "\u001b[1;31mIndexError\u001b[0m: too many indices for array"
     ]
    }
   ],
   "source": [
    "colorsCompressed = cifar10_color(train_X) \n",
    "colorsCompressed[:10]"
   ]
  },
  {
   "cell_type": "code",
   "execution_count": 73,
   "metadata": {},
   "outputs": [],
   "source": [
    "def cifar10_naivebayes_learn(Xp, labels):\n",
    "    mu = []\n",
    "    sigma = []\n",
    "    p = []\n",
    "    for i in range(0,10) :\n",
    "        subset = Xp[labels == i]\n",
    "        \n",
    "        mu.append([np.mean(subset[:,0]), np.mean(subset[:,1]), np.mean(subset[:,2])])\n",
    "        sigma.append([np.std(subset[:,0]), np.std(subset[:,1]), np.std(subset[:,2])])\n",
    "        p.append(0.1)\n",
    "        \n",
    "        \n",
    "    return(mu, sigma, p)"
   ]
  },
  {
   "cell_type": "code",
   "execution_count": 74,
   "metadata": {},
   "outputs": [
    {
     "ename": "NameError",
     "evalue": "name 'colorsCompressed' is not defined",
     "output_type": "error",
     "traceback": [
      "\u001b[1;31m---------------------------------------------------------------------------\u001b[0m",
      "\u001b[1;31mNameError\u001b[0m                                 Traceback (most recent call last)",
      "\u001b[1;32m<ipython-input-74-20ee8bda7160>\u001b[0m in \u001b[0;36m<module>\u001b[1;34m()\u001b[0m\n\u001b[1;32m----> 1\u001b[1;33m \u001b[0mmu\u001b[0m\u001b[1;33m,\u001b[0m \u001b[0msigma\u001b[0m\u001b[1;33m,\u001b[0m \u001b[0mp\u001b[0m \u001b[1;33m=\u001b[0m \u001b[0mcifar10_naivebayes_learn\u001b[0m\u001b[1;33m(\u001b[0m\u001b[0mcolorsCompressed\u001b[0m\u001b[1;33m,\u001b[0m \u001b[0mtrain_Y\u001b[0m\u001b[1;33m)\u001b[0m\u001b[1;33m\u001b[0m\u001b[0m\n\u001b[0m",
      "\u001b[1;31mNameError\u001b[0m: name 'colorsCompressed' is not defined"
     ]
    }
   ],
   "source": [
    "mu, sigma, p = cifar10_naivebayes_learn(colorsCompressed, train_Y)"
   ]
  },
  {
   "cell_type": "code",
   "execution_count": 75,
   "metadata": {},
   "outputs": [],
   "source": [
    "def probability(x, mu, sigma):\n",
    "    expo = math.exp(-(math.pow(x-mu,2)/(2*math.pow(sigma,2))))\n",
    "    return((1 / (math.sqrt(2*math.pi) * sigma)) * exp)"
   ]
  },
  {
   "cell_type": "code",
   "execution_count": 76,
   "metadata": {},
   "outputs": [],
   "source": [
    "def cifar_10_bayes_classify(x, mu, sigma, Xp):\n",
    "    pred = []    \n",
    "    for i in range(len(Xp)):\n",
    "        x = np.array(Xp[i])[0]  # x marks the spot\n",
    "        prob = []\n",
    "        for j in range(0,10):\n",
    "            prob.append(probability(x[0], mu[j][0], sigma[j][0]) * probability(x[1], mu[j][1], sigma[j][1]) * \n",
    "            probability(x[2], mu[j][2], sigma[j][2]))  # colors: r, g, b\n",
    "        pred.append(np.argmax(prob)) # max prob\n",
    "    return(np.array(pred))"
   ]
  },
  {
   "cell_type": "code",
   "execution_count": 77,
   "metadata": {},
   "outputs": [
    {
     "ename": "NameError",
     "evalue": "name 'mu' is not defined",
     "output_type": "error",
     "traceback": [
      "\u001b[1;31m---------------------------------------------------------------------------\u001b[0m",
      "\u001b[1;31mNameError\u001b[0m                                 Traceback (most recent call last)",
      "\u001b[1;32m<ipython-input-77-2bcd7b9ae655>\u001b[0m in \u001b[0;36m<module>\u001b[1;34m()\u001b[0m\n\u001b[0;32m      1\u001b[0m \u001b[0mcompressed_test\u001b[0m \u001b[1;33m=\u001b[0m \u001b[0mcifar_10_features\u001b[0m\u001b[1;33m(\u001b[0m\u001b[0mX\u001b[0m\u001b[1;33m)\u001b[0m\u001b[1;33m\u001b[0m\u001b[0m\n\u001b[1;32m----> 2\u001b[1;33m \u001b[0mpred_class\u001b[0m \u001b[1;33m=\u001b[0m \u001b[0mcifar_10_bayes_classify\u001b[0m\u001b[1;33m(\u001b[0m\u001b[0mmu\u001b[0m\u001b[1;33m,\u001b[0m \u001b[0msigma\u001b[0m\u001b[1;33m,\u001b[0m \u001b[0mcompressed_test\u001b[0m\u001b[1;33m)\u001b[0m\u001b[1;33m\u001b[0m\u001b[0m\n\u001b[0m",
      "\u001b[1;31mNameError\u001b[0m: name 'mu' is not defined"
     ]
    }
   ],
   "source": [
    "compressed_test = cifar_10_features(X) \n",
    "pred_class = cifar_10_bayes_classify(mu, sigma, compressed_test)"
   ]
  },
  {
   "cell_type": "code",
   "execution_count": 78,
   "metadata": {},
   "outputs": [],
   "source": [
    "def testingAccuracy(testASet, pred):\n",
    "    correct = 0\n",
    "    for x in range(len(testASet)):\n",
    "        if testASet[x][-1] == pred[x]:\n",
    "            correct += 1\n",
    "    return (correct/float(len(testASet))) * 100.0"
   ]
  },
  {
   "cell_type": "code",
   "execution_count": 79,
   "metadata": {},
   "outputs": [
    {
     "ename": "SyntaxError",
     "evalue": "invalid syntax (<ipython-input-79-c5ce340c9f71>, line 1)",
     "output_type": "error",
     "traceback": [
      "\u001b[1;36m  File \u001b[1;32m\"<ipython-input-79-c5ce340c9f71>\"\u001b[1;36m, line \u001b[1;32m1\u001b[0m\n\u001b[1;33m    print(\"The accuracy of Naive Bayes: mean colors is:\", round(testingAccuracy(, pred_class), 2), \"%\")\u001b[0m\n\u001b[1;37m                                                                                ^\u001b[0m\n\u001b[1;31mSyntaxError\u001b[0m\u001b[1;31m:\u001b[0m invalid syntax\n"
     ]
    }
   ],
   "source": [
    "print(\"The accuracy of Naive Bayes: (mean colors) is:\", round(testingAccuracy(Y, pred_class), 2), \"%\")"
   ]
  },
  {
   "cell_type": "code",
   "execution_count": null,
   "metadata": {},
   "outputs": [],
   "source": []
  },
  {
   "cell_type": "code",
   "execution_count": null,
   "metadata": {},
   "outputs": [],
   "source": []
  },
  {
   "cell_type": "code",
   "execution_count": null,
   "metadata": {},
   "outputs": [],
   "source": []
  }
 ],
 "metadata": {
  "kernelspec": {
   "display_name": "Python 3",
   "language": "python",
   "name": "python3"
  },
  "language_info": {
   "codemirror_mode": {
    "name": "ipython",
    "version": 3
   },
   "file_extension": ".py",
   "mimetype": "text/x-python",
   "name": "python",
   "nbconvert_exporter": "python",
   "pygments_lexer": "ipython3",
   "version": "3.6.5"
  }
 },
 "nbformat": 4,
 "nbformat_minor": 2
}
